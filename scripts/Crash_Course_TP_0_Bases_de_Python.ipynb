{
  "nbformat": 4,
  "nbformat_minor": 0,
  "metadata": {
    "colab": {
      "name": "Crash Course - TP 0 : Bases de Python.ipynb",
      "version": "0.3.2",
      "provenance": [],
      "collapsed_sections": []
    },
    "kernelspec": {
      "name": "python3",
      "display_name": "Python 3"
    }
  },
  "cells": [
    {
      "metadata": {
        "id": "VxipGDxINJqy",
        "colab_type": "text"
      },
      "cell_type": "markdown",
      "source": [
        "# I. Manipulations basiques"
      ]
    },
    {
      "metadata": {
        "id": "OTUGDY5uODGT",
        "colab_type": "text"
      },
      "cell_type": "markdown",
      "source": [
        "Pour exécuter une cellule, appuyer sur **Shift + Entrée**"
      ]
    },
    {
      "metadata": {
        "id": "M0BCrmERNJIt",
        "colab_type": "code",
        "colab": {}
      },
      "cell_type": "code",
      "source": [
        "## Ceci est un commentaire\n",
        "x = 2\n",
        "y = 3.0\n",
        "z = 'hello world'"
      ],
      "execution_count": 0,
      "outputs": []
    },
    {
      "metadata": {
        "id": "pjI8CeQ6NnGq",
        "colab_type": "text"
      },
      "cell_type": "markdown",
      "source": [
        "x, y et z sont des **variables** (une portion de la mémoire dédiée à stocker l'information rentrée).\n",
        "\n",
        "---\n",
        "\n",
        "*   x est un **entier** (*integer*)\n",
        "*   y est un **réel** (*float*)\n",
        "*   z est une **chaîne de caractères** (*string*)"
      ]
    },
    {
      "metadata": {
        "id": "GInXIGFbNhHI",
        "colab_type": "code",
        "outputId": "20e50544-4921-4dbf-d3bf-c27b7634f304",
        "colab": {
          "base_uri": "https://localhost:8080/",
          "height": 51
        }
      },
      "cell_type": "code",
      "source": [
        "## La commande print()\n",
        "print(x + y)\n",
        "print(z)"
      ],
      "execution_count": 0,
      "outputs": [
        {
          "output_type": "stream",
          "text": [
            "5.0\n",
            "hello world\n"
          ],
          "name": "stdout"
        }
      ]
    },
    {
      "metadata": {
        "id": "scQpwvFXNNJT",
        "colab_type": "text"
      },
      "cell_type": "markdown",
      "source": [
        "`print()` est une **commande** permettant à Python de renvoyer le résultat d'une opération ou la valeur d'une variable."
      ]
    },
    {
      "metadata": {
        "id": "A_JECX-MNOCv",
        "colab_type": "code",
        "outputId": "261da712-c2cc-43a3-ba7b-208a13254c2d",
        "colab": {
          "base_uri": "https://localhost:8080/",
          "height": 85
        }
      },
      "cell_type": "code",
      "source": [
        "## Les opérations classiques peuvent être effectuées dans Python\n",
        "somme = x + y\n",
        "difference = x - y\n",
        "produit = x * y\n",
        "division = x / y\n",
        "\n",
        "print('Somme = %s' %(somme))\n",
        "print('Différence = %s' %(difference))\n",
        "print('Produit = %s' % (produit))\n",
        "print('Quotient = %s' % (division))"
      ],
      "execution_count": 0,
      "outputs": [
        {
          "output_type": "stream",
          "text": [
            "Somme = 5.0\n",
            "Différence = -1.0\n",
            "Produit = 6.0\n",
            "Quotient = 0.6666666666666666\n"
          ],
          "name": "stdout"
        }
      ]
    },
    {
      "metadata": {
        "id": "YSFmlVCZWzqy",
        "colab_type": "text"
      },
      "cell_type": "markdown",
      "source": [
        "Une variable peut être actualisée à partir d'une ancienne valeur."
      ]
    },
    {
      "metadata": {
        "id": "Bz_R6KTqW8uY",
        "colab_type": "code",
        "colab": {}
      },
      "cell_type": "code",
      "source": [
        "## Ajouter 1 à la variable x\n",
        "x = x + 1\n",
        "# Lire : Nouvelle valeur = Ancienne valeur + 1\n",
        "\n",
        "# On peut aussi écrire x += 1"
      ],
      "execution_count": 0,
      "outputs": []
    },
    {
      "metadata": {
        "id": "MUW37scrQZic",
        "colab_type": "text"
      },
      "cell_type": "markdown",
      "source": [
        "# II. Stocker un ensemble d'informations"
      ]
    },
    {
      "metadata": {
        "id": "wvwl6d2PQpDa",
        "colab_type": "text"
      },
      "cell_type": "markdown",
      "source": [
        "Une variable peut stocker un ensemble d'informations, grâce aux **structures de données** (*data structures*), au nombre de trois : \n",
        "\n",
        "1.   Liste (le plus courant)\n",
        "2.   Dictionnaire\n",
        "3.   N-uplet"
      ]
    },
    {
      "metadata": {
        "id": "SK9EbuEzQiu-",
        "colab_type": "code",
        "colab": {}
      },
      "cell_type": "code",
      "source": [
        "liste = []\n",
        "dictionnaire = {}\n",
        "n_uplet = ()"
      ],
      "execution_count": 0,
      "outputs": []
    },
    {
      "metadata": {
        "id": "eDROYS8dSSQo",
        "colab_type": "text"
      },
      "cell_type": "markdown",
      "source": [
        "Les trois variables ci-dessus sont des éléments vides. Créons une liste à partir des variables `x`, `y` et `z`."
      ]
    },
    {
      "metadata": {
        "id": "6Yaf1ceoQ6x3",
        "colab_type": "code",
        "colab": {}
      },
      "cell_type": "code",
      "source": [
        "liste = [x, y, z]"
      ],
      "execution_count": 0,
      "outputs": []
    },
    {
      "metadata": {
        "id": "IF0i8WLFSl-e",
        "colab_type": "text"
      },
      "cell_type": "markdown",
      "source": [
        "A partir de cette liste, on peut : \n",
        "\n",
        "*   Calculer sa longueur avec la commande `len()`\n",
        "*   Accéder aux différents éléments en appelant l'indice correspondant (**important : le premier élément est indexé par 0**)\n",
        "*   Ajouter ou supprimer des éléments avec les commandes `append()` et `pop()`\n",
        "* ..."
      ]
    },
    {
      "metadata": {
        "id": "fPH767ZdTklI",
        "colab_type": "code",
        "outputId": "365267b6-4e39-4780-8374-323c1fad3528",
        "colab": {
          "base_uri": "https://localhost:8080/",
          "height": 34
        }
      },
      "cell_type": "code",
      "source": [
        "## Calcul de la longueur de la variable `liste`\n",
        "print(len(liste))"
      ],
      "execution_count": 0,
      "outputs": [
        {
          "output_type": "stream",
          "text": [
            "3\n"
          ],
          "name": "stdout"
        }
      ]
    },
    {
      "metadata": {
        "id": "f4lVSB6vTrLJ",
        "colab_type": "code",
        "outputId": "837ff158-7b63-4065-8b79-79cca4309e5d",
        "colab": {
          "base_uri": "https://localhost:8080/",
          "height": 68
        }
      },
      "cell_type": "code",
      "source": [
        "## Requêter un élément de la liste\n",
        "print(liste[0])\n",
        "print(liste[1])\n",
        "print(liste[-1]) # Un nombre négatif signifie qu'on requête à partir de la fin de la liste"
      ],
      "execution_count": 0,
      "outputs": [
        {
          "output_type": "stream",
          "text": [
            "2\n",
            "3\n",
            "hello world\n"
          ],
          "name": "stdout"
        }
      ]
    },
    {
      "metadata": {
        "id": "WrpOxa17UCzD",
        "colab_type": "code",
        "outputId": "54177535-e515-4cee-e585-9d7851b36afe",
        "colab": {
          "base_uri": "https://localhost:8080/",
          "height": 51
        }
      },
      "cell_type": "code",
      "source": [
        "## Ajouter ou enlever un élément d'une liste\n",
        "zeta = 10\n",
        "liste.append(zeta)\n",
        "print(liste)\n",
        "liste.pop()\n",
        "print(liste)"
      ],
      "execution_count": 0,
      "outputs": [
        {
          "output_type": "stream",
          "text": [
            "[2, 3, 'hello world', 10]\n",
            "[2, 3, 'hello world']\n"
          ],
          "name": "stdout"
        }
      ]
    },
    {
      "metadata": {
        "id": "5wuzY90qUjeA",
        "colab_type": "text"
      },
      "cell_type": "markdown",
      "source": [
        "On peut aussi modifier chaque élément de la liste, en assignant une nouvelle valeur à l'emplacement souhaité."
      ]
    },
    {
      "metadata": {
        "id": "qwiWeu7eUxki",
        "colab_type": "code",
        "outputId": "e6f0dd04-5345-4082-c3ae-d918a9c96512",
        "colab": {
          "base_uri": "https://localhost:8080/",
          "height": 51
        }
      },
      "cell_type": "code",
      "source": [
        "## Changeons le premier élément de la liste\n",
        "print(liste) # Avant\n",
        "liste[0] = 130\n",
        "print(liste) # Après"
      ],
      "execution_count": 0,
      "outputs": [
        {
          "output_type": "stream",
          "text": [
            "[2, 3, 'hello world']\n",
            "[130, 3, 'hello world']\n"
          ],
          "name": "stdout"
        }
      ]
    },
    {
      "metadata": {
        "id": "ne4vuuPWT34A",
        "colab_type": "text"
      },
      "cell_type": "markdown",
      "source": [
        "Le N-uplet fonctionne de la même manière qu'une liste, mis à part la dernière possibilité (modifier des éléments)"
      ]
    },
    {
      "metadata": {
        "id": "2q7KzMzVVNe_",
        "colab_type": "text"
      },
      "cell_type": "markdown",
      "source": [
        "Le dictionnaire fonctionne comme un tableau de correspondances. "
      ]
    },
    {
      "metadata": {
        "id": "Kh-z7rYbVVUm",
        "colab_type": "code",
        "outputId": "664ca523-7a6d-43f3-b903-ef036eaba4d7",
        "colab": {
          "base_uri": "https://localhost:8080/",
          "height": 34
        }
      },
      "cell_type": "code",
      "source": [
        "dictionnaire = {\n",
        "    'produit': z,\n",
        "    'prix' : x, \n",
        "    'stock' : y\n",
        "}\n",
        "\n",
        "print(dictionnaire['produit'])"
      ],
      "execution_count": 0,
      "outputs": [
        {
          "output_type": "stream",
          "text": [
            "hello world\n"
          ],
          "name": "stdout"
        }
      ]
    },
    {
      "metadata": {
        "id": "WZ5PubzzO_aT",
        "colab_type": "text"
      },
      "cell_type": "markdown",
      "source": [
        "# III. Automatisation d'opérations répétitives"
      ]
    },
    {
      "metadata": {
        "id": "7ot7h5-sYvde",
        "colab_type": "text"
      },
      "cell_type": "markdown",
      "source": [
        "## A. Boucles *for*"
      ]
    },
    {
      "metadata": {
        "id": "A_yZC1GnPJoS",
        "colab_type": "text"
      },
      "cell_type": "markdown",
      "source": [
        "Une boucle `for` permet d'exécuter automatiquement un nombre défini d'opérations répétitives."
      ]
    },
    {
      "metadata": {
        "id": "9L3-w6MNOoKE",
        "colab_type": "code",
        "outputId": "4c3ba4f1-50cd-46b5-8725-66f697018471",
        "colab": {
          "base_uri": "https://localhost:8080/",
          "height": 187
        }
      },
      "cell_type": "code",
      "source": [
        "## Créons d'abord une liste\n",
        "liste = [1, 2, 3, 4, 5, 6, 7, 8, 9, 10]\n",
        "\n",
        "for i in liste:\n",
        "  print(i) # Attention au petit espace devant (TABULATION)\n",
        "\n",
        "# Lire : pour chaque élément de la liste, afficher cet élément\n",
        "# Ceci évite d'avoir à écrire print(liste[0]), print(liste[1])..."
      ],
      "execution_count": 0,
      "outputs": [
        {
          "output_type": "stream",
          "text": [
            "1\n",
            "2\n",
            "3\n",
            "4\n",
            "5\n",
            "6\n",
            "7\n",
            "8\n",
            "9\n",
            "10\n"
          ],
          "name": "stdout"
        }
      ]
    },
    {
      "metadata": {
        "id": "tpqULWFqZx3l",
        "colab_type": "text"
      },
      "cell_type": "markdown",
      "source": [
        "## B. Conditionnement"
      ]
    },
    {
      "metadata": {
        "id": "38GX7YpXZ2C-",
        "colab_type": "text"
      },
      "cell_type": "markdown",
      "source": [
        "En informatique, on définit des **booléens** comme des variables qui ne peuvent prendre que 2 valeurs : vrai ou faux (*True, False*)."
      ]
    },
    {
      "metadata": {
        "id": "W48g6wI4V1Ry",
        "colab_type": "code",
        "outputId": "6321b2f6-8e13-4a01-e27b-bebc54658f26",
        "colab": {
          "base_uri": "https://localhost:8080/",
          "height": 85
        }
      },
      "cell_type": "code",
      "source": [
        "# Exemple de booléens\n",
        "v = True\n",
        "f = False\n",
        "print(v)\n",
        "print(f)\n",
        "\n",
        "# Exemple de calcul impliquant des booléens\n",
        "p_1 = v * f\n",
        "print(p_1)\n",
        "p_2 = v * v\n",
        "print(p_2)\n",
        "# 'True' est associé à une valeur '1', 'False' à une valeur '0'"
      ],
      "execution_count": 0,
      "outputs": [
        {
          "output_type": "stream",
          "text": [
            "True\n",
            "False\n",
            "0\n",
            "1\n"
          ],
          "name": "stdout"
        }
      ]
    },
    {
      "metadata": {
        "id": "ceZ_vCZub51b",
        "colab_type": "text"
      },
      "cell_type": "markdown",
      "source": [
        "Une proposition vraie ou fausse correspond à un booléen."
      ]
    },
    {
      "metadata": {
        "id": "lUcPWEZwZDm1",
        "colab_type": "code",
        "outputId": "d19ba324-a5e2-44dd-9e5c-a1eabafa7916",
        "colab": {
          "base_uri": "https://localhost:8080/",
          "height": 51
        }
      },
      "cell_type": "code",
      "source": [
        "## Condition vraie\n",
        "print(2 <= 3)\n",
        "\n",
        "## Condition fausse\n",
        "print(2 > 10)"
      ],
      "execution_count": 0,
      "outputs": [
        {
          "output_type": "stream",
          "text": [
            "True\n",
            "False\n"
          ],
          "name": "stdout"
        }
      ]
    },
    {
      "metadata": {
        "id": "r3REvnskcjSz",
        "colab_type": "text"
      },
      "cell_type": "markdown",
      "source": [
        "À partir de cela, l'on peut exécuter des lignes dans Python, sous condition que certaines conditions sont remplies, à partir d'un bloc `if...else`"
      ]
    },
    {
      "metadata": {
        "id": "69eb3snLbNOw",
        "colab_type": "code",
        "outputId": "1a4c7d67-d41d-4e81-8470-9885bdfbe0e8",
        "colab": {
          "base_uri": "https://localhost:8080/",
          "height": 34
        }
      },
      "cell_type": "code",
      "source": [
        "if 2 > 3:\n",
        "  print('Cette condition ne sera pas exécutée')\n",
        "else:\n",
        "  print('Cette condition sera exécutée')"
      ],
      "execution_count": 0,
      "outputs": [
        {
          "output_type": "stream",
          "text": [
            "Cette condition sera exécutée\n"
          ],
          "name": "stdout"
        }
      ]
    },
    {
      "metadata": {
        "id": "CPxWK7841YKq",
        "colab_type": "text"
      },
      "cell_type": "markdown",
      "source": [
        "# IV. Mise en pratique"
      ]
    },
    {
      "metadata": {
        "id": "KLEZlU-F11Gf",
        "colab_type": "text"
      },
      "cell_type": "markdown",
      "source": [
        "Ecrire un algorithme pour calculer la moyenne de la liste `liste_moyenne` ci-dessous : "
      ]
    },
    {
      "metadata": {
        "id": "fb5GY1ImdS00",
        "colab_type": "code",
        "colab": {}
      },
      "cell_type": "code",
      "source": [
        "liste_moyenne = [1, 3, 5, 7, 9, 17, 21, 32]"
      ],
      "execution_count": 0,
      "outputs": []
    },
    {
      "metadata": {
        "id": "FpYCh3iu2CdV",
        "colab_type": "code",
        "colab": {}
      },
      "cell_type": "code",
      "source": [
        "### Votre solution ici\n",
        "\n",
        "# Stocker dans une variable 'N' la longueur de la liste_moyenne\n",
        "\n",
        "# Ecrire une boucle for dans laquelle tous les éléments de la liste sont sommés\n",
        "\n",
        "# Diviser le résultat de la somme par 'N'"
      ],
      "execution_count": 0,
      "outputs": []
    },
    {
      "metadata": {
        "id": "cYrUi0n62ZXH",
        "colab_type": "code",
        "colab": {}
      },
      "cell_type": "code",
      "source": [
        "### Pour les plus avancés\n",
        "\n",
        "# Ecrire un algorithme pour calculer la variance et l'écart-type de liste_moyenne"
      ],
      "execution_count": 0,
      "outputs": []
    }
  ]
}