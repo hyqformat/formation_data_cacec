{
  "nbformat": 4,
  "nbformat_minor": 0,
  "metadata": {
    "colab": {
      "name": "Crash Course - TP 2 : Enrichir une base de données grâce aux jointures.ipynb",
      "version": "0.3.2",
      "provenance": [],
      "collapsed_sections": []
    },
    "kernelspec": {
      "name": "python3",
      "display_name": "Python 3"
    }
  },
  "cells": [
    {
      "metadata": {
        "id": "pCQ-1RGv_xNd",
        "colab_type": "text"
      },
      "cell_type": "markdown",
      "source": [
        "# Quelques commandes utiles dans la librairie *pandas*"
      ]
    },
    {
      "metadata": {
        "id": "65ZFfOCxBHHE",
        "colab_type": "text"
      },
      "cell_type": "markdown",
      "source": [
        "*pandas* est une librairie Python rendant possible et plus rapide le traitement des bases de données relationnelles. \n",
        "\n",
        "---\n",
        "\n",
        "*pandas* structure les données de façon particulière, grâce aux **DataFrame** (\"trames de données\"), qui permettent une lecture des données sous forme de n-uplets en ligne et d'attributs en colonne."
      ]
    },
    {
      "metadata": {
        "id": "XazVcPAyEe9R",
        "colab_type": "code",
        "colab": {}
      },
      "cell_type": "code",
      "source": [
        "# Importation de la librairie pandas \n",
        "import pandas as pd\n",
        "import numpy as np\n",
        "import random"
      ],
      "execution_count": 0,
      "outputs": []
    },
    {
      "metadata": {
        "id": "5PSqIHHrHHfo",
        "colab_type": "text"
      },
      "cell_type": "markdown",
      "source": [
        "## A. Créer un DataFrame et le visualiser"
      ]
    },
    {
      "metadata": {
        "id": "wsJRD2FR_Z7k",
        "colab_type": "code",
        "colab": {}
      },
      "cell_type": "code",
      "source": [
        "### Création d'un DataFrame\n",
        "\n",
        "var_id = list(range(100))\n",
        "var_1 = random.sample(range(1, 1000), 100)\n",
        "var_2 = np.random.normal(10, 1, 100)\n",
        "\n",
        "df_dict = {\n",
        "    'id': var_id,\n",
        "    'var1': var_1,\n",
        "    'var2': var_2\n",
        "}\n",
        "\n",
        "df = pd.DataFrame(df_dict)"
      ],
      "execution_count": 0,
      "outputs": []
    },
    {
      "metadata": {
        "id": "uA3ad2SfFqQu",
        "colab_type": "code",
        "outputId": "2a440968-4c02-4fce-ff21-cca5f30e3301",
        "colab": {
          "base_uri": "https://localhost:8080/",
          "height": 297
        }
      },
      "cell_type": "code",
      "source": [
        "## Description d'un DataFrame\n",
        "\n",
        "df.describe()"
      ],
      "execution_count": 0,
      "outputs": [
        {
          "output_type": "execute_result",
          "data": {
            "text/html": [
              "<div>\n",
              "<style scoped>\n",
              "    .dataframe tbody tr th:only-of-type {\n",
              "        vertical-align: middle;\n",
              "    }\n",
              "\n",
              "    .dataframe tbody tr th {\n",
              "        vertical-align: top;\n",
              "    }\n",
              "\n",
              "    .dataframe thead th {\n",
              "        text-align: right;\n",
              "    }\n",
              "</style>\n",
              "<table border=\"1\" class=\"dataframe\">\n",
              "  <thead>\n",
              "    <tr style=\"text-align: right;\">\n",
              "      <th></th>\n",
              "      <th>id</th>\n",
              "      <th>var1</th>\n",
              "      <th>var2</th>\n",
              "    </tr>\n",
              "  </thead>\n",
              "  <tbody>\n",
              "    <tr>\n",
              "      <th>count</th>\n",
              "      <td>100.000000</td>\n",
              "      <td>100.000000</td>\n",
              "      <td>100.000000</td>\n",
              "    </tr>\n",
              "    <tr>\n",
              "      <th>mean</th>\n",
              "      <td>49.500000</td>\n",
              "      <td>512.140000</td>\n",
              "      <td>9.981057</td>\n",
              "    </tr>\n",
              "    <tr>\n",
              "      <th>std</th>\n",
              "      <td>29.011492</td>\n",
              "      <td>280.445534</td>\n",
              "      <td>0.968468</td>\n",
              "    </tr>\n",
              "    <tr>\n",
              "      <th>min</th>\n",
              "      <td>0.000000</td>\n",
              "      <td>18.000000</td>\n",
              "      <td>7.788987</td>\n",
              "    </tr>\n",
              "    <tr>\n",
              "      <th>25%</th>\n",
              "      <td>24.750000</td>\n",
              "      <td>288.000000</td>\n",
              "      <td>9.426829</td>\n",
              "    </tr>\n",
              "    <tr>\n",
              "      <th>50%</th>\n",
              "      <td>49.500000</td>\n",
              "      <td>500.000000</td>\n",
              "      <td>9.892491</td>\n",
              "    </tr>\n",
              "    <tr>\n",
              "      <th>75%</th>\n",
              "      <td>74.250000</td>\n",
              "      <td>746.250000</td>\n",
              "      <td>10.622915</td>\n",
              "    </tr>\n",
              "    <tr>\n",
              "      <th>max</th>\n",
              "      <td>99.000000</td>\n",
              "      <td>995.000000</td>\n",
              "      <td>12.679907</td>\n",
              "    </tr>\n",
              "  </tbody>\n",
              "</table>\n",
              "</div>"
            ],
            "text/plain": [
              "               id        var1        var2\n",
              "count  100.000000  100.000000  100.000000\n",
              "mean    49.500000  512.140000    9.981057\n",
              "std     29.011492  280.445534    0.968468\n",
              "min      0.000000   18.000000    7.788987\n",
              "25%     24.750000  288.000000    9.426829\n",
              "50%     49.500000  500.000000    9.892491\n",
              "75%     74.250000  746.250000   10.622915\n",
              "max     99.000000  995.000000   12.679907"
            ]
          },
          "metadata": {
            "tags": []
          },
          "execution_count": 24
        }
      ]
    },
    {
      "metadata": {
        "id": "Uom-PgkOGTO0",
        "colab_type": "code",
        "outputId": "056bfa4f-d966-4f98-da3b-419b98916e96",
        "colab": {
          "base_uri": "https://localhost:8080/",
          "height": 204
        }
      },
      "cell_type": "code",
      "source": [
        "## Visualisation du début d'un DataFrame\n",
        "\n",
        "df.head()\n",
        "# df.tail() ### Pour la fin d'un DataFrame\n",
        "# df.sample(n) ### Pour voir n échantillons tirés aléatoirement"
      ],
      "execution_count": 0,
      "outputs": [
        {
          "output_type": "execute_result",
          "data": {
            "text/html": [
              "<div>\n",
              "<style scoped>\n",
              "    .dataframe tbody tr th:only-of-type {\n",
              "        vertical-align: middle;\n",
              "    }\n",
              "\n",
              "    .dataframe tbody tr th {\n",
              "        vertical-align: top;\n",
              "    }\n",
              "\n",
              "    .dataframe thead th {\n",
              "        text-align: right;\n",
              "    }\n",
              "</style>\n",
              "<table border=\"1\" class=\"dataframe\">\n",
              "  <thead>\n",
              "    <tr style=\"text-align: right;\">\n",
              "      <th></th>\n",
              "      <th>id</th>\n",
              "      <th>var1</th>\n",
              "      <th>var2</th>\n",
              "    </tr>\n",
              "  </thead>\n",
              "  <tbody>\n",
              "    <tr>\n",
              "      <th>0</th>\n",
              "      <td>0</td>\n",
              "      <td>679</td>\n",
              "      <td>10.944398</td>\n",
              "    </tr>\n",
              "    <tr>\n",
              "      <th>1</th>\n",
              "      <td>1</td>\n",
              "      <td>662</td>\n",
              "      <td>9.751607</td>\n",
              "    </tr>\n",
              "    <tr>\n",
              "      <th>2</th>\n",
              "      <td>2</td>\n",
              "      <td>273</td>\n",
              "      <td>10.204852</td>\n",
              "    </tr>\n",
              "    <tr>\n",
              "      <th>3</th>\n",
              "      <td>3</td>\n",
              "      <td>393</td>\n",
              "      <td>8.393980</td>\n",
              "    </tr>\n",
              "    <tr>\n",
              "      <th>4</th>\n",
              "      <td>4</td>\n",
              "      <td>36</td>\n",
              "      <td>8.859657</td>\n",
              "    </tr>\n",
              "  </tbody>\n",
              "</table>\n",
              "</div>"
            ],
            "text/plain": [
              "   id  var1       var2\n",
              "0   0   679  10.944398\n",
              "1   1   662   9.751607\n",
              "2   2   273  10.204852\n",
              "3   3   393   8.393980\n",
              "4   4    36   8.859657"
            ]
          },
          "metadata": {
            "tags": []
          },
          "execution_count": 25
        }
      ]
    },
    {
      "metadata": {
        "id": "QX3XWERZ5M_n",
        "colab_type": "text"
      },
      "cell_type": "markdown",
      "source": [
        "Pour contextualiser, posons que : \n",
        "\n",
        "*   **id** : identifiant du magasin\n",
        "*   **var1** : Nombre d'unités de marchandises écoulées\n",
        "*   **var2** : Prix moyen unitaire de la marchandise\n",
        "\n"
      ]
    },
    {
      "metadata": {
        "id": "KsEZ3ZX75L6N",
        "colab_type": "code",
        "outputId": "f375776e-4f64-4407-fe16-4fde1a8799b7",
        "colab": {
          "base_uri": "https://localhost:8080/",
          "height": 204
        }
      },
      "cell_type": "code",
      "source": [
        "## Renommer les colonnes du DataFrame\n",
        "df = df.rename(str, columns = {'id': 'identifiant_client', 'var1': 'unites', 'var2': 'prix_moyen'})\n",
        "df.head()"
      ],
      "execution_count": 0,
      "outputs": [
        {
          "output_type": "execute_result",
          "data": {
            "text/html": [
              "<div>\n",
              "<style scoped>\n",
              "    .dataframe tbody tr th:only-of-type {\n",
              "        vertical-align: middle;\n",
              "    }\n",
              "\n",
              "    .dataframe tbody tr th {\n",
              "        vertical-align: top;\n",
              "    }\n",
              "\n",
              "    .dataframe thead th {\n",
              "        text-align: right;\n",
              "    }\n",
              "</style>\n",
              "<table border=\"1\" class=\"dataframe\">\n",
              "  <thead>\n",
              "    <tr style=\"text-align: right;\">\n",
              "      <th></th>\n",
              "      <th>identifiant_client</th>\n",
              "      <th>unites</th>\n",
              "      <th>prix_moyen</th>\n",
              "    </tr>\n",
              "  </thead>\n",
              "  <tbody>\n",
              "    <tr>\n",
              "      <th>0</th>\n",
              "      <td>0</td>\n",
              "      <td>679</td>\n",
              "      <td>10.944398</td>\n",
              "    </tr>\n",
              "    <tr>\n",
              "      <th>1</th>\n",
              "      <td>1</td>\n",
              "      <td>662</td>\n",
              "      <td>9.751607</td>\n",
              "    </tr>\n",
              "    <tr>\n",
              "      <th>2</th>\n",
              "      <td>2</td>\n",
              "      <td>273</td>\n",
              "      <td>10.204852</td>\n",
              "    </tr>\n",
              "    <tr>\n",
              "      <th>3</th>\n",
              "      <td>3</td>\n",
              "      <td>393</td>\n",
              "      <td>8.393980</td>\n",
              "    </tr>\n",
              "    <tr>\n",
              "      <th>4</th>\n",
              "      <td>4</td>\n",
              "      <td>36</td>\n",
              "      <td>8.859657</td>\n",
              "    </tr>\n",
              "  </tbody>\n",
              "</table>\n",
              "</div>"
            ],
            "text/plain": [
              "   identifiant_client  unites  prix_moyen\n",
              "0                   0     679   10.944398\n",
              "1                   1     662    9.751607\n",
              "2                   2     273   10.204852\n",
              "3                   3     393    8.393980\n",
              "4                   4      36    8.859657"
            ]
          },
          "metadata": {
            "tags": []
          },
          "execution_count": 28
        }
      ]
    },
    {
      "metadata": {
        "id": "oRljrtH5HZcS",
        "colab_type": "text"
      },
      "cell_type": "markdown",
      "source": [
        "## B. Gérer l'information d'un DataFrame (filtrage, calculs...)"
      ]
    },
    {
      "metadata": {
        "id": "lBjrtb9xGb7i",
        "colab_type": "code",
        "outputId": "7e37f6a7-2893-4e44-c4d9-4c714beeedd0",
        "colab": {
          "base_uri": "https://localhost:8080/",
          "height": 204
        }
      },
      "cell_type": "code",
      "source": [
        "## Ajouter une variable à la base de données structurées\n",
        "# Exemple : une variable 'secteur' où 3 valeurs 'A', 'B' et 'C' sont possibles\n",
        "\n",
        "var_3 = np.random.choice(['A', 'B', 'C'], size = 100, replace = True)\n",
        "\n",
        "df['secteur'] = var_3\n",
        "df.head()\n",
        "\n",
        "# Pour supprimer, décommenter la ligne suivante\n",
        "# del df['secteur']"
      ],
      "execution_count": 0,
      "outputs": [
        {
          "output_type": "execute_result",
          "data": {
            "text/html": [
              "<div>\n",
              "<style scoped>\n",
              "    .dataframe tbody tr th:only-of-type {\n",
              "        vertical-align: middle;\n",
              "    }\n",
              "\n",
              "    .dataframe tbody tr th {\n",
              "        vertical-align: top;\n",
              "    }\n",
              "\n",
              "    .dataframe thead th {\n",
              "        text-align: right;\n",
              "    }\n",
              "</style>\n",
              "<table border=\"1\" class=\"dataframe\">\n",
              "  <thead>\n",
              "    <tr style=\"text-align: right;\">\n",
              "      <th></th>\n",
              "      <th>identifiant_client</th>\n",
              "      <th>unites</th>\n",
              "      <th>prix_moyen</th>\n",
              "      <th>secteur</th>\n",
              "    </tr>\n",
              "  </thead>\n",
              "  <tbody>\n",
              "    <tr>\n",
              "      <th>0</th>\n",
              "      <td>0</td>\n",
              "      <td>679</td>\n",
              "      <td>10.944398</td>\n",
              "      <td>C</td>\n",
              "    </tr>\n",
              "    <tr>\n",
              "      <th>1</th>\n",
              "      <td>1</td>\n",
              "      <td>662</td>\n",
              "      <td>9.751607</td>\n",
              "      <td>B</td>\n",
              "    </tr>\n",
              "    <tr>\n",
              "      <th>2</th>\n",
              "      <td>2</td>\n",
              "      <td>273</td>\n",
              "      <td>10.204852</td>\n",
              "      <td>A</td>\n",
              "    </tr>\n",
              "    <tr>\n",
              "      <th>3</th>\n",
              "      <td>3</td>\n",
              "      <td>393</td>\n",
              "      <td>8.393980</td>\n",
              "      <td>A</td>\n",
              "    </tr>\n",
              "    <tr>\n",
              "      <th>4</th>\n",
              "      <td>4</td>\n",
              "      <td>36</td>\n",
              "      <td>8.859657</td>\n",
              "      <td>C</td>\n",
              "    </tr>\n",
              "  </tbody>\n",
              "</table>\n",
              "</div>"
            ],
            "text/plain": [
              "   identifiant_client  unites  prix_moyen secteur\n",
              "0                   0     679   10.944398       C\n",
              "1                   1     662    9.751607       B\n",
              "2                   2     273   10.204852       A\n",
              "3                   3     393    8.393980       A\n",
              "4                   4      36    8.859657       C"
            ]
          },
          "metadata": {
            "tags": []
          },
          "execution_count": 29
        }
      ]
    },
    {
      "metadata": {
        "id": "JRF39qu0KYU8",
        "colab_type": "code",
        "colab": {}
      },
      "cell_type": "code",
      "source": [
        "## Renvoyer les secteurs \"uniques\" de l'attribut 'secteur'\n",
        "print(df['secteur'].unique())"
      ],
      "execution_count": 0,
      "outputs": []
    },
    {
      "metadata": {
        "id": "3zuzl3yMUpJE",
        "colab_type": "code",
        "outputId": "bf858630-32ba-4022-8468-91229c9b9f1d",
        "colab": {
          "base_uri": "https://localhost:8080/",
          "height": 204
        }
      },
      "cell_type": "code",
      "source": [
        "## Ne garder que les lignes où secteur == C\n",
        "\n",
        "df_var3C = df[df['secteur'] == \"C\"]\n",
        "df_var3C.head()"
      ],
      "execution_count": 0,
      "outputs": [
        {
          "output_type": "execute_result",
          "data": {
            "text/html": [
              "<div>\n",
              "<style scoped>\n",
              "    .dataframe tbody tr th:only-of-type {\n",
              "        vertical-align: middle;\n",
              "    }\n",
              "\n",
              "    .dataframe tbody tr th {\n",
              "        vertical-align: top;\n",
              "    }\n",
              "\n",
              "    .dataframe thead th {\n",
              "        text-align: right;\n",
              "    }\n",
              "</style>\n",
              "<table border=\"1\" class=\"dataframe\">\n",
              "  <thead>\n",
              "    <tr style=\"text-align: right;\">\n",
              "      <th></th>\n",
              "      <th>identifiant_client</th>\n",
              "      <th>unites</th>\n",
              "      <th>prix_moyen</th>\n",
              "      <th>secteur</th>\n",
              "    </tr>\n",
              "  </thead>\n",
              "  <tbody>\n",
              "    <tr>\n",
              "      <th>0</th>\n",
              "      <td>0</td>\n",
              "      <td>679</td>\n",
              "      <td>10.944398</td>\n",
              "      <td>C</td>\n",
              "    </tr>\n",
              "    <tr>\n",
              "      <th>4</th>\n",
              "      <td>4</td>\n",
              "      <td>36</td>\n",
              "      <td>8.859657</td>\n",
              "      <td>C</td>\n",
              "    </tr>\n",
              "    <tr>\n",
              "      <th>8</th>\n",
              "      <td>8</td>\n",
              "      <td>205</td>\n",
              "      <td>10.843698</td>\n",
              "      <td>C</td>\n",
              "    </tr>\n",
              "    <tr>\n",
              "      <th>11</th>\n",
              "      <td>11</td>\n",
              "      <td>296</td>\n",
              "      <td>12.679907</td>\n",
              "      <td>C</td>\n",
              "    </tr>\n",
              "    <tr>\n",
              "      <th>16</th>\n",
              "      <td>16</td>\n",
              "      <td>511</td>\n",
              "      <td>9.876565</td>\n",
              "      <td>C</td>\n",
              "    </tr>\n",
              "  </tbody>\n",
              "</table>\n",
              "</div>"
            ],
            "text/plain": [
              "    identifiant_client  unites  prix_moyen secteur\n",
              "0                    0     679   10.944398       C\n",
              "4                    4      36    8.859657       C\n",
              "8                    8     205   10.843698       C\n",
              "11                  11     296   12.679907       C\n",
              "16                  16     511    9.876565       C"
            ]
          },
          "metadata": {
            "tags": []
          },
          "execution_count": 30
        }
      ]
    },
    {
      "metadata": {
        "id": "d0oJ0mGUU34U",
        "colab_type": "code",
        "outputId": "4c81f9da-a53e-44eb-bda3-bf1c1b30d5b7",
        "colab": {
          "base_uri": "https://localhost:8080/",
          "height": 204
        }
      },
      "cell_type": "code",
      "source": [
        "## Ne garder que les magasins qui a écoulé une certaine fourchette d'unités de marchandises ?\n",
        "lb = 200\n",
        "ub = 400\n",
        "\n",
        "df_var1_lbub = df[df['unites'].isin(list(range(lb, ub)))]\n",
        "df_var1_lbub.head()"
      ],
      "execution_count": 0,
      "outputs": [
        {
          "output_type": "execute_result",
          "data": {
            "text/html": [
              "<div>\n",
              "<style scoped>\n",
              "    .dataframe tbody tr th:only-of-type {\n",
              "        vertical-align: middle;\n",
              "    }\n",
              "\n",
              "    .dataframe tbody tr th {\n",
              "        vertical-align: top;\n",
              "    }\n",
              "\n",
              "    .dataframe thead th {\n",
              "        text-align: right;\n",
              "    }\n",
              "</style>\n",
              "<table border=\"1\" class=\"dataframe\">\n",
              "  <thead>\n",
              "    <tr style=\"text-align: right;\">\n",
              "      <th></th>\n",
              "      <th>identifiant_client</th>\n",
              "      <th>unites</th>\n",
              "      <th>prix_moyen</th>\n",
              "      <th>secteur</th>\n",
              "    </tr>\n",
              "  </thead>\n",
              "  <tbody>\n",
              "    <tr>\n",
              "      <th>2</th>\n",
              "      <td>2</td>\n",
              "      <td>273</td>\n",
              "      <td>10.204852</td>\n",
              "      <td>A</td>\n",
              "    </tr>\n",
              "    <tr>\n",
              "      <th>3</th>\n",
              "      <td>3</td>\n",
              "      <td>393</td>\n",
              "      <td>8.393980</td>\n",
              "      <td>A</td>\n",
              "    </tr>\n",
              "    <tr>\n",
              "      <th>8</th>\n",
              "      <td>8</td>\n",
              "      <td>205</td>\n",
              "      <td>10.843698</td>\n",
              "      <td>C</td>\n",
              "    </tr>\n",
              "    <tr>\n",
              "      <th>11</th>\n",
              "      <td>11</td>\n",
              "      <td>296</td>\n",
              "      <td>12.679907</td>\n",
              "      <td>C</td>\n",
              "    </tr>\n",
              "    <tr>\n",
              "      <th>13</th>\n",
              "      <td>13</td>\n",
              "      <td>371</td>\n",
              "      <td>9.741526</td>\n",
              "      <td>B</td>\n",
              "    </tr>\n",
              "  </tbody>\n",
              "</table>\n",
              "</div>"
            ],
            "text/plain": [
              "    identifiant_client  unites  prix_moyen secteur\n",
              "2                    2     273   10.204852       A\n",
              "3                    3     393    8.393980       A\n",
              "8                    8     205   10.843698       C\n",
              "11                  11     296   12.679907       C\n",
              "13                  13     371    9.741526       B"
            ]
          },
          "metadata": {
            "tags": []
          },
          "execution_count": 31
        }
      ]
    },
    {
      "metadata": {
        "id": "Pgebo21IU5DY",
        "colab_type": "code",
        "outputId": "79960314-f376-4db9-80e9-6df1d2f13e7b",
        "colab": {
          "base_uri": "https://localhost:8080/",
          "height": 85
        }
      },
      "cell_type": "code",
      "source": [
        "## Combien de lignes reste-t-il ? \n",
        "print(\"Il y avait %s observations avant les filtres\" % df.shape[0])\n",
        "print(\"Il y a %s observations après le filtre sur la variable 'secteur'\" % df_var3C.shape[0])\n",
        "print(\"Il y a %s observations après le filtre sur la variable 'unites'\" %df_var1_lbub.shape[0])\n",
        "print(\"Il y a au total %s attributs (variables)\" % df.shape[1])"
      ],
      "execution_count": 0,
      "outputs": [
        {
          "output_type": "stream",
          "text": [
            "Il y avait 100 observations avant les filtres\n",
            "Il y a 36 observations après le filtre sur la variable 'secteur'\n",
            "Il y a 24 observations après le filtre sur la variable 'unites'\n",
            "Il y a au total 4 attributs (variables)\n"
          ],
          "name": "stdout"
        }
      ]
    },
    {
      "metadata": {
        "id": "efYV0Z9-2W3L",
        "colab_type": "code",
        "outputId": "8f59a5a8-5d75-4e8c-a908-2a1e90ae1e46",
        "colab": {
          "base_uri": "https://localhost:8080/",
          "height": 204
        }
      },
      "cell_type": "code",
      "source": [
        "## Créer une variable à partir de plusieurs colonnes : le chiffre d'affaires moyen\n",
        "\n",
        "df['CA_moyen'] = df['unites'] * df['prix_moyen']\n",
        "df.head()"
      ],
      "execution_count": 0,
      "outputs": [
        {
          "output_type": "execute_result",
          "data": {
            "text/html": [
              "<div>\n",
              "<style scoped>\n",
              "    .dataframe tbody tr th:only-of-type {\n",
              "        vertical-align: middle;\n",
              "    }\n",
              "\n",
              "    .dataframe tbody tr th {\n",
              "        vertical-align: top;\n",
              "    }\n",
              "\n",
              "    .dataframe thead th {\n",
              "        text-align: right;\n",
              "    }\n",
              "</style>\n",
              "<table border=\"1\" class=\"dataframe\">\n",
              "  <thead>\n",
              "    <tr style=\"text-align: right;\">\n",
              "      <th></th>\n",
              "      <th>identifiant_client</th>\n",
              "      <th>unites</th>\n",
              "      <th>prix_moyen</th>\n",
              "      <th>secteur</th>\n",
              "      <th>CA_moyen</th>\n",
              "    </tr>\n",
              "  </thead>\n",
              "  <tbody>\n",
              "    <tr>\n",
              "      <th>0</th>\n",
              "      <td>0</td>\n",
              "      <td>679</td>\n",
              "      <td>10.944398</td>\n",
              "      <td>C</td>\n",
              "      <td>7431.246292</td>\n",
              "    </tr>\n",
              "    <tr>\n",
              "      <th>1</th>\n",
              "      <td>1</td>\n",
              "      <td>662</td>\n",
              "      <td>9.751607</td>\n",
              "      <td>B</td>\n",
              "      <td>6455.564043</td>\n",
              "    </tr>\n",
              "    <tr>\n",
              "      <th>2</th>\n",
              "      <td>2</td>\n",
              "      <td>273</td>\n",
              "      <td>10.204852</td>\n",
              "      <td>A</td>\n",
              "      <td>2785.924483</td>\n",
              "    </tr>\n",
              "    <tr>\n",
              "      <th>3</th>\n",
              "      <td>3</td>\n",
              "      <td>393</td>\n",
              "      <td>8.393980</td>\n",
              "      <td>A</td>\n",
              "      <td>3298.834140</td>\n",
              "    </tr>\n",
              "    <tr>\n",
              "      <th>4</th>\n",
              "      <td>4</td>\n",
              "      <td>36</td>\n",
              "      <td>8.859657</td>\n",
              "      <td>C</td>\n",
              "      <td>318.947657</td>\n",
              "    </tr>\n",
              "  </tbody>\n",
              "</table>\n",
              "</div>"
            ],
            "text/plain": [
              "   identifiant_client  unites  prix_moyen secteur     CA_moyen\n",
              "0                   0     679   10.944398       C  7431.246292\n",
              "1                   1     662    9.751607       B  6455.564043\n",
              "2                   2     273   10.204852       A  2785.924483\n",
              "3                   3     393    8.393980       A  3298.834140\n",
              "4                   4      36    8.859657       C   318.947657"
            ]
          },
          "metadata": {
            "tags": []
          },
          "execution_count": 33
        }
      ]
    },
    {
      "metadata": {
        "id": "L646GY142GpT",
        "colab_type": "text"
      },
      "cell_type": "markdown",
      "source": [
        "L'on peut directement appliquer des fonctions de calcul sur une colonne de la matrice à l'aide de fonctions intégrées à *pandas*"
      ]
    },
    {
      "metadata": {
        "id": "AlOGYJ1Rz_Ua",
        "colab_type": "code",
        "outputId": "a78f8179-41ac-4e31-f8cd-ebffe975c1de",
        "colab": {
          "base_uri": "https://localhost:8080/",
          "height": 68
        }
      },
      "cell_type": "code",
      "source": [
        "# Calculer la moyenne, la médiane, la variance\n",
        "print('Les magasins ont vendu, en moyenne, %s unités' % round(df['unites'].mean()))\n",
        "print('La variance des prix moyens est de %s' % df['prix_moyen'].var())\n",
        "print(\"Le chiffre d'affaires médian est de %s euros\" % round(df['CA_moyen'].median()))"
      ],
      "execution_count": 0,
      "outputs": [
        {
          "output_type": "stream",
          "text": [
            "Les magasins ont vendu, en moyenne, 512 unités\n",
            "La variance des prix moyens est de 0.9379304905369505\n",
            "Le chiffre d'affaires médian est de 4890 euros\n"
          ],
          "name": "stdout"
        }
      ]
    },
    {
      "metadata": {
        "id": "qFlT8hTi17Cd",
        "colab_type": "code",
        "outputId": "f4388f67-0132-405b-d4fc-449c21bc3038",
        "colab": {
          "base_uri": "https://localhost:8080/",
          "height": 204
        }
      },
      "cell_type": "code",
      "source": [
        "# Trier dans l'ordre décroissant la variable 'chiffre d'affaires\n",
        "df_trie = df.sort_values('CA_moyen', ascending = False)\n",
        "df_trie.head()"
      ],
      "execution_count": 0,
      "outputs": [
        {
          "output_type": "execute_result",
          "data": {
            "text/html": [
              "<div>\n",
              "<style scoped>\n",
              "    .dataframe tbody tr th:only-of-type {\n",
              "        vertical-align: middle;\n",
              "    }\n",
              "\n",
              "    .dataframe tbody tr th {\n",
              "        vertical-align: top;\n",
              "    }\n",
              "\n",
              "    .dataframe thead th {\n",
              "        text-align: right;\n",
              "    }\n",
              "</style>\n",
              "<table border=\"1\" class=\"dataframe\">\n",
              "  <thead>\n",
              "    <tr style=\"text-align: right;\">\n",
              "      <th></th>\n",
              "      <th>identifiant_client</th>\n",
              "      <th>unites</th>\n",
              "      <th>prix_moyen</th>\n",
              "      <th>secteur</th>\n",
              "      <th>CA_moyen</th>\n",
              "    </tr>\n",
              "  </thead>\n",
              "  <tbody>\n",
              "    <tr>\n",
              "      <th>85</th>\n",
              "      <td>85</td>\n",
              "      <td>977</td>\n",
              "      <td>10.828542</td>\n",
              "      <td>B</td>\n",
              "      <td>10579.485520</td>\n",
              "    </tr>\n",
              "    <tr>\n",
              "      <th>35</th>\n",
              "      <td>35</td>\n",
              "      <td>992</td>\n",
              "      <td>10.300894</td>\n",
              "      <td>B</td>\n",
              "      <td>10218.486636</td>\n",
              "    </tr>\n",
              "    <tr>\n",
              "      <th>28</th>\n",
              "      <td>28</td>\n",
              "      <td>970</td>\n",
              "      <td>10.474276</td>\n",
              "      <td>B</td>\n",
              "      <td>10160.047244</td>\n",
              "    </tr>\n",
              "    <tr>\n",
              "      <th>39</th>\n",
              "      <td>39</td>\n",
              "      <td>995</td>\n",
              "      <td>9.904106</td>\n",
              "      <td>C</td>\n",
              "      <td>9854.585580</td>\n",
              "    </tr>\n",
              "    <tr>\n",
              "      <th>40</th>\n",
              "      <td>40</td>\n",
              "      <td>812</td>\n",
              "      <td>11.911620</td>\n",
              "      <td>A</td>\n",
              "      <td>9672.235381</td>\n",
              "    </tr>\n",
              "  </tbody>\n",
              "</table>\n",
              "</div>"
            ],
            "text/plain": [
              "    identifiant_client  unites  prix_moyen secteur      CA_moyen\n",
              "85                  85     977   10.828542       B  10579.485520\n",
              "35                  35     992   10.300894       B  10218.486636\n",
              "28                  28     970   10.474276       B  10160.047244\n",
              "39                  39     995    9.904106       C   9854.585580\n",
              "40                  40     812   11.911620       A   9672.235381"
            ]
          },
          "metadata": {
            "tags": []
          },
          "execution_count": 36
        }
      ]
    },
    {
      "metadata": {
        "id": "DWMVT8Lm3l4x",
        "colab_type": "code",
        "outputId": "c78c7452-701b-4ed0-bb50-f795436c440b",
        "colab": {
          "base_uri": "https://localhost:8080/",
          "height": 85
        }
      },
      "cell_type": "code",
      "source": [
        "# Compter le nombre de magasins dans chaque secteur ? \n",
        "df['secteur'].value_counts()"
      ],
      "execution_count": 0,
      "outputs": [
        {
          "output_type": "execute_result",
          "data": {
            "text/plain": [
              "C    36\n",
              "A    35\n",
              "B    29\n",
              "Name: secteur, dtype: int64"
            ]
          },
          "metadata": {
            "tags": []
          },
          "execution_count": 37
        }
      ]
    },
    {
      "metadata": {
        "id": "Mkw1ydjr4Dxy",
        "colab_type": "code",
        "outputId": "2198c5fa-ad3d-4dfc-e644-c964009e675e",
        "colab": {
          "base_uri": "https://localhost:8080/",
          "height": 102
        }
      },
      "cell_type": "code",
      "source": [
        "# Calculer la moyenne de chiffre d'affaires par secteur ? \n",
        "\n",
        "print(df.groupby(['secteur'])['CA_moyen'].mean())"
      ],
      "execution_count": 0,
      "outputs": [
        {
          "output_type": "stream",
          "text": [
            "secteur\n",
            "A    5451.388417\n",
            "B    4818.665876\n",
            "C    4963.123622\n",
            "Name: CA_moyen, dtype: float64\n"
          ],
          "name": "stdout"
        }
      ]
    },
    {
      "metadata": {
        "id": "NQa870J88nqx",
        "colab_type": "text"
      },
      "cell_type": "markdown",
      "source": [
        "Possibilité de faire des tableaux croisés dynamiques en Python !"
      ]
    },
    {
      "metadata": {
        "id": "nnnwLF7u-GLV",
        "colab_type": "code",
        "outputId": "766daf46-48fd-422b-e8a6-3e5d3b2b9a16",
        "colab": {
          "base_uri": "https://localhost:8080/",
          "height": 204
        }
      },
      "cell_type": "code",
      "source": [
        "## On crée une autre variable catégorielle : l'ancienneté. \n",
        "\n",
        "anciennete = np.random.choice(range(11), size = 100, replace = True)\n",
        "df['anciennete'] = anciennete\n",
        "df.head()"
      ],
      "execution_count": 0,
      "outputs": [
        {
          "output_type": "execute_result",
          "data": {
            "text/html": [
              "<div>\n",
              "<style scoped>\n",
              "    .dataframe tbody tr th:only-of-type {\n",
              "        vertical-align: middle;\n",
              "    }\n",
              "\n",
              "    .dataframe tbody tr th {\n",
              "        vertical-align: top;\n",
              "    }\n",
              "\n",
              "    .dataframe thead th {\n",
              "        text-align: right;\n",
              "    }\n",
              "</style>\n",
              "<table border=\"1\" class=\"dataframe\">\n",
              "  <thead>\n",
              "    <tr style=\"text-align: right;\">\n",
              "      <th></th>\n",
              "      <th>identifiant_client</th>\n",
              "      <th>unites</th>\n",
              "      <th>prix_moyen</th>\n",
              "      <th>secteur</th>\n",
              "      <th>CA_moyen</th>\n",
              "      <th>anciennete</th>\n",
              "    </tr>\n",
              "  </thead>\n",
              "  <tbody>\n",
              "    <tr>\n",
              "      <th>0</th>\n",
              "      <td>0</td>\n",
              "      <td>679</td>\n",
              "      <td>10.944398</td>\n",
              "      <td>C</td>\n",
              "      <td>7431.246292</td>\n",
              "      <td>4</td>\n",
              "    </tr>\n",
              "    <tr>\n",
              "      <th>1</th>\n",
              "      <td>1</td>\n",
              "      <td>662</td>\n",
              "      <td>9.751607</td>\n",
              "      <td>B</td>\n",
              "      <td>6455.564043</td>\n",
              "      <td>0</td>\n",
              "    </tr>\n",
              "    <tr>\n",
              "      <th>2</th>\n",
              "      <td>2</td>\n",
              "      <td>273</td>\n",
              "      <td>10.204852</td>\n",
              "      <td>A</td>\n",
              "      <td>2785.924483</td>\n",
              "      <td>9</td>\n",
              "    </tr>\n",
              "    <tr>\n",
              "      <th>3</th>\n",
              "      <td>3</td>\n",
              "      <td>393</td>\n",
              "      <td>8.393980</td>\n",
              "      <td>A</td>\n",
              "      <td>3298.834140</td>\n",
              "      <td>5</td>\n",
              "    </tr>\n",
              "    <tr>\n",
              "      <th>4</th>\n",
              "      <td>4</td>\n",
              "      <td>36</td>\n",
              "      <td>8.859657</td>\n",
              "      <td>C</td>\n",
              "      <td>318.947657</td>\n",
              "      <td>3</td>\n",
              "    </tr>\n",
              "  </tbody>\n",
              "</table>\n",
              "</div>"
            ],
            "text/plain": [
              "   identifiant_client  unites  prix_moyen secteur     CA_moyen  anciennete\n",
              "0                   0     679   10.944398       C  7431.246292           4\n",
              "1                   1     662    9.751607       B  6455.564043           0\n",
              "2                   2     273   10.204852       A  2785.924483           9\n",
              "3                   3     393    8.393980       A  3298.834140           5\n",
              "4                   4      36    8.859657       C   318.947657           3"
            ]
          },
          "metadata": {
            "tags": []
          },
          "execution_count": 72
        }
      ]
    },
    {
      "metadata": {
        "id": "5WSdQdJ-8nFg",
        "colab_type": "code",
        "outputId": "2a1f90a4-d9c7-4d65-a07b-3aabf57a9b92",
        "colab": {
          "base_uri": "https://localhost:8080/",
          "height": 421
        }
      },
      "cell_type": "code",
      "source": [
        "tcd = pd.pivot_table(df, values = 'CA_moyen', index = ['anciennete'], columns = 'secteur', aggfunc = np.mean)\n",
        "tcd"
      ],
      "execution_count": 0,
      "outputs": [
        {
          "output_type": "execute_result",
          "data": {
            "text/html": [
              "<div>\n",
              "<style scoped>\n",
              "    .dataframe tbody tr th:only-of-type {\n",
              "        vertical-align: middle;\n",
              "    }\n",
              "\n",
              "    .dataframe tbody tr th {\n",
              "        vertical-align: top;\n",
              "    }\n",
              "\n",
              "    .dataframe thead th {\n",
              "        text-align: right;\n",
              "    }\n",
              "</style>\n",
              "<table border=\"1\" class=\"dataframe\">\n",
              "  <thead>\n",
              "    <tr style=\"text-align: right;\">\n",
              "      <th>secteur</th>\n",
              "      <th>A</th>\n",
              "      <th>B</th>\n",
              "      <th>C</th>\n",
              "    </tr>\n",
              "    <tr>\n",
              "      <th>anciennete</th>\n",
              "      <th></th>\n",
              "      <th></th>\n",
              "      <th></th>\n",
              "    </tr>\n",
              "  </thead>\n",
              "  <tbody>\n",
              "    <tr>\n",
              "      <th>0</th>\n",
              "      <td>6326.257037</td>\n",
              "      <td>5866.210560</td>\n",
              "      <td>2349.840610</td>\n",
              "    </tr>\n",
              "    <tr>\n",
              "      <th>1</th>\n",
              "      <td>8062.213051</td>\n",
              "      <td>NaN</td>\n",
              "      <td>NaN</td>\n",
              "    </tr>\n",
              "    <tr>\n",
              "      <th>2</th>\n",
              "      <td>5407.118553</td>\n",
              "      <td>5772.708923</td>\n",
              "      <td>7479.601319</td>\n",
              "    </tr>\n",
              "    <tr>\n",
              "      <th>3</th>\n",
              "      <td>5162.823890</td>\n",
              "      <td>5823.618697</td>\n",
              "      <td>996.170097</td>\n",
              "    </tr>\n",
              "    <tr>\n",
              "      <th>4</th>\n",
              "      <td>3520.896478</td>\n",
              "      <td>4531.356443</td>\n",
              "      <td>8423.308133</td>\n",
              "    </tr>\n",
              "    <tr>\n",
              "      <th>5</th>\n",
              "      <td>3289.752234</td>\n",
              "      <td>3913.486359</td>\n",
              "      <td>4476.147174</td>\n",
              "    </tr>\n",
              "    <tr>\n",
              "      <th>6</th>\n",
              "      <td>7391.121297</td>\n",
              "      <td>2476.538800</td>\n",
              "      <td>5034.800995</td>\n",
              "    </tr>\n",
              "    <tr>\n",
              "      <th>7</th>\n",
              "      <td>6124.307628</td>\n",
              "      <td>5735.115868</td>\n",
              "      <td>5361.318263</td>\n",
              "    </tr>\n",
              "    <tr>\n",
              "      <th>8</th>\n",
              "      <td>6831.710196</td>\n",
              "      <td>4754.274708</td>\n",
              "      <td>5389.711986</td>\n",
              "    </tr>\n",
              "    <tr>\n",
              "      <th>9</th>\n",
              "      <td>2938.521346</td>\n",
              "      <td>10218.486636</td>\n",
              "      <td>6160.866294</td>\n",
              "    </tr>\n",
              "    <tr>\n",
              "      <th>10</th>\n",
              "      <td>5039.171375</td>\n",
              "      <td>517.240356</td>\n",
              "      <td>2707.487265</td>\n",
              "    </tr>\n",
              "  </tbody>\n",
              "</table>\n",
              "</div>"
            ],
            "text/plain": [
              "secteur               A             B            C\n",
              "anciennete                                        \n",
              "0           6326.257037   5866.210560  2349.840610\n",
              "1           8062.213051           NaN          NaN\n",
              "2           5407.118553   5772.708923  7479.601319\n",
              "3           5162.823890   5823.618697   996.170097\n",
              "4           3520.896478   4531.356443  8423.308133\n",
              "5           3289.752234   3913.486359  4476.147174\n",
              "6           7391.121297   2476.538800  5034.800995\n",
              "7           6124.307628   5735.115868  5361.318263\n",
              "8           6831.710196   4754.274708  5389.711986\n",
              "9           2938.521346  10218.486636  6160.866294\n",
              "10          5039.171375    517.240356  2707.487265"
            ]
          },
          "metadata": {
            "tags": []
          },
          "execution_count": 75
        }
      ]
    },
    {
      "metadata": {
        "id": "5wQ13jX9ExEW",
        "colab_type": "text"
      },
      "cell_type": "markdown",
      "source": [
        "## C. Jointures"
      ]
    },
    {
      "metadata": {
        "id": "tBJkuil8Ey1B",
        "colab_type": "text"
      },
      "cell_type": "markdown",
      "source": [
        "En cours, nous avons fait la différence entre les différentes jointures permettant d'enrichir les bases de données structurées, grâce à la correspondance entre deux tables ayant au moins un attribut (une variable) en commun.\n",
        "\n",
        "---\n",
        "\n",
        "Avec la librairie *pandas*, les jointures sont faites à partir de la commande **merge**."
      ]
    },
    {
      "metadata": {
        "id": "yCDqiXrN9iqT",
        "colab_type": "code",
        "outputId": "ffa67353-dc28-4e81-e45f-a70017824ec5",
        "colab": {
          "base_uri": "https://localhost:8080/",
          "height": 204
        }
      },
      "cell_type": "code",
      "source": [
        "# Créons un nouveau DataFrame \n",
        "\n",
        "df_complem = pd.DataFrame({\n",
        "    'identifiant_client': list(range(50, 120)),\n",
        "    'age_du_gerant': np.random.choice(list(range(18,65)), size = len(range(50, 120)), replace = True)\n",
        "})\n",
        "\n",
        "df_complem.head()"
      ],
      "execution_count": 0,
      "outputs": [
        {
          "output_type": "execute_result",
          "data": {
            "text/html": [
              "<div>\n",
              "<style scoped>\n",
              "    .dataframe tbody tr th:only-of-type {\n",
              "        vertical-align: middle;\n",
              "    }\n",
              "\n",
              "    .dataframe tbody tr th {\n",
              "        vertical-align: top;\n",
              "    }\n",
              "\n",
              "    .dataframe thead th {\n",
              "        text-align: right;\n",
              "    }\n",
              "</style>\n",
              "<table border=\"1\" class=\"dataframe\">\n",
              "  <thead>\n",
              "    <tr style=\"text-align: right;\">\n",
              "      <th></th>\n",
              "      <th>identifiant_client</th>\n",
              "      <th>age_du_gerant</th>\n",
              "    </tr>\n",
              "  </thead>\n",
              "  <tbody>\n",
              "    <tr>\n",
              "      <th>0</th>\n",
              "      <td>50</td>\n",
              "      <td>56</td>\n",
              "    </tr>\n",
              "    <tr>\n",
              "      <th>1</th>\n",
              "      <td>51</td>\n",
              "      <td>24</td>\n",
              "    </tr>\n",
              "    <tr>\n",
              "      <th>2</th>\n",
              "      <td>52</td>\n",
              "      <td>48</td>\n",
              "    </tr>\n",
              "    <tr>\n",
              "      <th>3</th>\n",
              "      <td>53</td>\n",
              "      <td>37</td>\n",
              "    </tr>\n",
              "    <tr>\n",
              "      <th>4</th>\n",
              "      <td>54</td>\n",
              "      <td>54</td>\n",
              "    </tr>\n",
              "  </tbody>\n",
              "</table>\n",
              "</div>"
            ],
            "text/plain": [
              "   identifiant_client  age_du_gerant\n",
              "0                  50             56\n",
              "1                  51             24\n",
              "2                  52             48\n",
              "3                  53             37\n",
              "4                  54             54"
            ]
          },
          "metadata": {
            "tags": []
          },
          "execution_count": 78
        }
      ]
    },
    {
      "metadata": {
        "id": "rl1pkMOPHaqs",
        "colab_type": "text"
      },
      "cell_type": "markdown",
      "source": [
        "Nous allons enrichir la première table `df` avec la table `df_complem`, à partir d'une jointure."
      ]
    },
    {
      "metadata": {
        "id": "cUM27jarHP5U",
        "colab_type": "code",
        "outputId": "a104607f-fe26-41e2-a304-6b0dab35f480",
        "colab": {
          "base_uri": "https://localhost:8080/",
          "height": 359
        }
      },
      "cell_type": "code",
      "source": [
        "# Jointure gauche \n",
        "j_g = pd.merge(df, df_complem, on = 'identifiant_client', how = 'left')\n",
        "j_g.sample(10)"
      ],
      "execution_count": 0,
      "outputs": [
        {
          "output_type": "execute_result",
          "data": {
            "text/html": [
              "<div>\n",
              "<style scoped>\n",
              "    .dataframe tbody tr th:only-of-type {\n",
              "        vertical-align: middle;\n",
              "    }\n",
              "\n",
              "    .dataframe tbody tr th {\n",
              "        vertical-align: top;\n",
              "    }\n",
              "\n",
              "    .dataframe thead th {\n",
              "        text-align: right;\n",
              "    }\n",
              "</style>\n",
              "<table border=\"1\" class=\"dataframe\">\n",
              "  <thead>\n",
              "    <tr style=\"text-align: right;\">\n",
              "      <th></th>\n",
              "      <th>identifiant_client</th>\n",
              "      <th>unites</th>\n",
              "      <th>prix_moyen</th>\n",
              "      <th>secteur</th>\n",
              "      <th>CA_moyen</th>\n",
              "      <th>anciennete</th>\n",
              "      <th>age_du_gerant</th>\n",
              "    </tr>\n",
              "  </thead>\n",
              "  <tbody>\n",
              "    <tr>\n",
              "      <th>99</th>\n",
              "      <td>99</td>\n",
              "      <td>671</td>\n",
              "      <td>9.671739</td>\n",
              "      <td>A</td>\n",
              "      <td>6489.736895</td>\n",
              "      <td>10</td>\n",
              "      <td>25.0</td>\n",
              "    </tr>\n",
              "    <tr>\n",
              "      <th>98</th>\n",
              "      <td>98</td>\n",
              "      <td>827</td>\n",
              "      <td>10.110895</td>\n",
              "      <td>A</td>\n",
              "      <td>8361.710053</td>\n",
              "      <td>1</td>\n",
              "      <td>45.0</td>\n",
              "    </tr>\n",
              "    <tr>\n",
              "      <th>76</th>\n",
              "      <td>76</td>\n",
              "      <td>368</td>\n",
              "      <td>12.208447</td>\n",
              "      <td>C</td>\n",
              "      <td>4492.708620</td>\n",
              "      <td>9</td>\n",
              "      <td>63.0</td>\n",
              "    </tr>\n",
              "    <tr>\n",
              "      <th>53</th>\n",
              "      <td>53</td>\n",
              "      <td>285</td>\n",
              "      <td>9.120620</td>\n",
              "      <td>B</td>\n",
              "      <td>2599.376595</td>\n",
              "      <td>8</td>\n",
              "      <td>37.0</td>\n",
              "    </tr>\n",
              "    <tr>\n",
              "      <th>32</th>\n",
              "      <td>32</td>\n",
              "      <td>989</td>\n",
              "      <td>9.469141</td>\n",
              "      <td>C</td>\n",
              "      <td>9364.980771</td>\n",
              "      <td>2</td>\n",
              "      <td>NaN</td>\n",
              "    </tr>\n",
              "    <tr>\n",
              "      <th>96</th>\n",
              "      <td>96</td>\n",
              "      <td>701</td>\n",
              "      <td>10.786022</td>\n",
              "      <td>A</td>\n",
              "      <td>7561.001135</td>\n",
              "      <td>7</td>\n",
              "      <td>24.0</td>\n",
              "    </tr>\n",
              "    <tr>\n",
              "      <th>79</th>\n",
              "      <td>79</td>\n",
              "      <td>702</td>\n",
              "      <td>8.790180</td>\n",
              "      <td>B</td>\n",
              "      <td>6170.706424</td>\n",
              "      <td>8</td>\n",
              "      <td>28.0</td>\n",
              "    </tr>\n",
              "    <tr>\n",
              "      <th>24</th>\n",
              "      <td>24</td>\n",
              "      <td>975</td>\n",
              "      <td>9.435260</td>\n",
              "      <td>A</td>\n",
              "      <td>9199.378366</td>\n",
              "      <td>0</td>\n",
              "      <td>NaN</td>\n",
              "    </tr>\n",
              "    <tr>\n",
              "      <th>29</th>\n",
              "      <td>29</td>\n",
              "      <td>821</td>\n",
              "      <td>10.054187</td>\n",
              "      <td>B</td>\n",
              "      <td>8254.487231</td>\n",
              "      <td>3</td>\n",
              "      <td>NaN</td>\n",
              "    </tr>\n",
              "    <tr>\n",
              "      <th>31</th>\n",
              "      <td>31</td>\n",
              "      <td>289</td>\n",
              "      <td>9.263529</td>\n",
              "      <td>A</td>\n",
              "      <td>2677.159756</td>\n",
              "      <td>5</td>\n",
              "      <td>NaN</td>\n",
              "    </tr>\n",
              "  </tbody>\n",
              "</table>\n",
              "</div>"
            ],
            "text/plain": [
              "    identifiant_client  unites  prix_moyen secteur     CA_moyen  anciennete  \\\n",
              "99                  99     671    9.671739       A  6489.736895          10   \n",
              "98                  98     827   10.110895       A  8361.710053           1   \n",
              "76                  76     368   12.208447       C  4492.708620           9   \n",
              "53                  53     285    9.120620       B  2599.376595           8   \n",
              "32                  32     989    9.469141       C  9364.980771           2   \n",
              "96                  96     701   10.786022       A  7561.001135           7   \n",
              "79                  79     702    8.790180       B  6170.706424           8   \n",
              "24                  24     975    9.435260       A  9199.378366           0   \n",
              "29                  29     821   10.054187       B  8254.487231           3   \n",
              "31                  31     289    9.263529       A  2677.159756           5   \n",
              "\n",
              "    age_du_gerant  \n",
              "99           25.0  \n",
              "98           45.0  \n",
              "76           63.0  \n",
              "53           37.0  \n",
              "32            NaN  \n",
              "96           24.0  \n",
              "79           28.0  \n",
              "24            NaN  \n",
              "29            NaN  \n",
              "31            NaN  "
            ]
          },
          "metadata": {
            "tags": []
          },
          "execution_count": 81
        }
      ]
    },
    {
      "metadata": {
        "id": "5e1Di3qEH0XL",
        "colab_type": "code",
        "outputId": "4637699d-f137-4f70-a81a-255e0becb20f",
        "colab": {
          "base_uri": "https://localhost:8080/",
          "height": 359
        }
      },
      "cell_type": "code",
      "source": [
        "# Jointure droite\n",
        "j_d = pd.merge(df, df_complem, on = 'identifiant_client', how = 'right')\n",
        "j_d.sample(10)"
      ],
      "execution_count": 0,
      "outputs": [
        {
          "output_type": "execute_result",
          "data": {
            "text/html": [
              "<div>\n",
              "<style scoped>\n",
              "    .dataframe tbody tr th:only-of-type {\n",
              "        vertical-align: middle;\n",
              "    }\n",
              "\n",
              "    .dataframe tbody tr th {\n",
              "        vertical-align: top;\n",
              "    }\n",
              "\n",
              "    .dataframe thead th {\n",
              "        text-align: right;\n",
              "    }\n",
              "</style>\n",
              "<table border=\"1\" class=\"dataframe\">\n",
              "  <thead>\n",
              "    <tr style=\"text-align: right;\">\n",
              "      <th></th>\n",
              "      <th>identifiant_client</th>\n",
              "      <th>unites</th>\n",
              "      <th>prix_moyen</th>\n",
              "      <th>secteur</th>\n",
              "      <th>CA_moyen</th>\n",
              "      <th>anciennete</th>\n",
              "      <th>age_du_gerant</th>\n",
              "    </tr>\n",
              "  </thead>\n",
              "  <tbody>\n",
              "    <tr>\n",
              "      <th>6</th>\n",
              "      <td>56</td>\n",
              "      <td>379.0</td>\n",
              "      <td>10.816836</td>\n",
              "      <td>A</td>\n",
              "      <td>4099.580813</td>\n",
              "      <td>3.0</td>\n",
              "      <td>31</td>\n",
              "    </tr>\n",
              "    <tr>\n",
              "      <th>39</th>\n",
              "      <td>89</td>\n",
              "      <td>746.0</td>\n",
              "      <td>8.838916</td>\n",
              "      <td>A</td>\n",
              "      <td>6593.831001</td>\n",
              "      <td>10.0</td>\n",
              "      <td>28</td>\n",
              "    </tr>\n",
              "    <tr>\n",
              "      <th>30</th>\n",
              "      <td>80</td>\n",
              "      <td>203.0</td>\n",
              "      <td>9.226937</td>\n",
              "      <td>B</td>\n",
              "      <td>1873.068198</td>\n",
              "      <td>4.0</td>\n",
              "      <td>20</td>\n",
              "    </tr>\n",
              "    <tr>\n",
              "      <th>22</th>\n",
              "      <td>72</td>\n",
              "      <td>829.0</td>\n",
              "      <td>8.387322</td>\n",
              "      <td>B</td>\n",
              "      <td>6953.089607</td>\n",
              "      <td>5.0</td>\n",
              "      <td>36</td>\n",
              "    </tr>\n",
              "    <tr>\n",
              "      <th>58</th>\n",
              "      <td>108</td>\n",
              "      <td>NaN</td>\n",
              "      <td>NaN</td>\n",
              "      <td>NaN</td>\n",
              "      <td>NaN</td>\n",
              "      <td>NaN</td>\n",
              "      <td>41</td>\n",
              "    </tr>\n",
              "    <tr>\n",
              "      <th>9</th>\n",
              "      <td>59</td>\n",
              "      <td>266.0</td>\n",
              "      <td>11.620745</td>\n",
              "      <td>A</td>\n",
              "      <td>3091.118209</td>\n",
              "      <td>9.0</td>\n",
              "      <td>60</td>\n",
              "    </tr>\n",
              "    <tr>\n",
              "      <th>53</th>\n",
              "      <td>103</td>\n",
              "      <td>NaN</td>\n",
              "      <td>NaN</td>\n",
              "      <td>NaN</td>\n",
              "      <td>NaN</td>\n",
              "      <td>NaN</td>\n",
              "      <td>22</td>\n",
              "    </tr>\n",
              "    <tr>\n",
              "      <th>45</th>\n",
              "      <td>95</td>\n",
              "      <td>805.0</td>\n",
              "      <td>9.598848</td>\n",
              "      <td>C</td>\n",
              "      <td>7727.072402</td>\n",
              "      <td>7.0</td>\n",
              "      <td>44</td>\n",
              "    </tr>\n",
              "    <tr>\n",
              "      <th>21</th>\n",
              "      <td>71</td>\n",
              "      <td>888.0</td>\n",
              "      <td>10.602894</td>\n",
              "      <td>C</td>\n",
              "      <td>9415.369975</td>\n",
              "      <td>4.0</td>\n",
              "      <td>50</td>\n",
              "    </tr>\n",
              "    <tr>\n",
              "      <th>65</th>\n",
              "      <td>115</td>\n",
              "      <td>NaN</td>\n",
              "      <td>NaN</td>\n",
              "      <td>NaN</td>\n",
              "      <td>NaN</td>\n",
              "      <td>NaN</td>\n",
              "      <td>35</td>\n",
              "    </tr>\n",
              "  </tbody>\n",
              "</table>\n",
              "</div>"
            ],
            "text/plain": [
              "    identifiant_client  unites  prix_moyen secteur     CA_moyen  anciennete  \\\n",
              "6                   56   379.0   10.816836       A  4099.580813         3.0   \n",
              "39                  89   746.0    8.838916       A  6593.831001        10.0   \n",
              "30                  80   203.0    9.226937       B  1873.068198         4.0   \n",
              "22                  72   829.0    8.387322       B  6953.089607         5.0   \n",
              "58                 108     NaN         NaN     NaN          NaN         NaN   \n",
              "9                   59   266.0   11.620745       A  3091.118209         9.0   \n",
              "53                 103     NaN         NaN     NaN          NaN         NaN   \n",
              "45                  95   805.0    9.598848       C  7727.072402         7.0   \n",
              "21                  71   888.0   10.602894       C  9415.369975         4.0   \n",
              "65                 115     NaN         NaN     NaN          NaN         NaN   \n",
              "\n",
              "    age_du_gerant  \n",
              "6              31  \n",
              "39             28  \n",
              "30             20  \n",
              "22             36  \n",
              "58             41  \n",
              "9              60  \n",
              "53             22  \n",
              "45             44  \n",
              "21             50  \n",
              "65             35  "
            ]
          },
          "metadata": {
            "tags": []
          },
          "execution_count": 82
        }
      ]
    },
    {
      "metadata": {
        "id": "UpR_YV91IErC",
        "colab_type": "code",
        "outputId": "84e6c092-ef3f-4fe5-92c8-39b0e87f71d3",
        "colab": {
          "base_uri": "https://localhost:8080/",
          "height": 359
        }
      },
      "cell_type": "code",
      "source": [
        "# Jointure 'intersection'\n",
        "\n",
        "j_i = pd.merge(df, df_complem, on = 'identifiant_client', how = 'inner')\n",
        "j_i.sample(10)"
      ],
      "execution_count": 0,
      "outputs": [
        {
          "output_type": "execute_result",
          "data": {
            "text/html": [
              "<div>\n",
              "<style scoped>\n",
              "    .dataframe tbody tr th:only-of-type {\n",
              "        vertical-align: middle;\n",
              "    }\n",
              "\n",
              "    .dataframe tbody tr th {\n",
              "        vertical-align: top;\n",
              "    }\n",
              "\n",
              "    .dataframe thead th {\n",
              "        text-align: right;\n",
              "    }\n",
              "</style>\n",
              "<table border=\"1\" class=\"dataframe\">\n",
              "  <thead>\n",
              "    <tr style=\"text-align: right;\">\n",
              "      <th></th>\n",
              "      <th>identifiant_client</th>\n",
              "      <th>unites</th>\n",
              "      <th>prix_moyen</th>\n",
              "      <th>secteur</th>\n",
              "      <th>CA_moyen</th>\n",
              "      <th>anciennete</th>\n",
              "      <th>age_du_gerant</th>\n",
              "    </tr>\n",
              "  </thead>\n",
              "  <tbody>\n",
              "    <tr>\n",
              "      <th>15</th>\n",
              "      <td>65</td>\n",
              "      <td>693</td>\n",
              "      <td>10.152900</td>\n",
              "      <td>A</td>\n",
              "      <td>7035.959710</td>\n",
              "      <td>8</td>\n",
              "      <td>26</td>\n",
              "    </tr>\n",
              "    <tr>\n",
              "      <th>7</th>\n",
              "      <td>57</td>\n",
              "      <td>182</td>\n",
              "      <td>10.956827</td>\n",
              "      <td>B</td>\n",
              "      <td>1994.142477</td>\n",
              "      <td>3</td>\n",
              "      <td>30</td>\n",
              "    </tr>\n",
              "    <tr>\n",
              "      <th>8</th>\n",
              "      <td>58</td>\n",
              "      <td>366</td>\n",
              "      <td>9.517824</td>\n",
              "      <td>A</td>\n",
              "      <td>3483.523547</td>\n",
              "      <td>0</td>\n",
              "      <td>30</td>\n",
              "    </tr>\n",
              "    <tr>\n",
              "      <th>23</th>\n",
              "      <td>73</td>\n",
              "      <td>763</td>\n",
              "      <td>10.765984</td>\n",
              "      <td>C</td>\n",
              "      <td>8214.445795</td>\n",
              "      <td>9</td>\n",
              "      <td>50</td>\n",
              "    </tr>\n",
              "    <tr>\n",
              "      <th>31</th>\n",
              "      <td>81</td>\n",
              "      <td>721</td>\n",
              "      <td>9.861330</td>\n",
              "      <td>C</td>\n",
              "      <td>7110.019004</td>\n",
              "      <td>9</td>\n",
              "      <td>63</td>\n",
              "    </tr>\n",
              "    <tr>\n",
              "      <th>26</th>\n",
              "      <td>76</td>\n",
              "      <td>368</td>\n",
              "      <td>12.208447</td>\n",
              "      <td>C</td>\n",
              "      <td>4492.708620</td>\n",
              "      <td>9</td>\n",
              "      <td>63</td>\n",
              "    </tr>\n",
              "    <tr>\n",
              "      <th>41</th>\n",
              "      <td>91</td>\n",
              "      <td>191</td>\n",
              "      <td>10.327169</td>\n",
              "      <td>A</td>\n",
              "      <td>1972.489217</td>\n",
              "      <td>3</td>\n",
              "      <td>42</td>\n",
              "    </tr>\n",
              "    <tr>\n",
              "      <th>14</th>\n",
              "      <td>64</td>\n",
              "      <td>305</td>\n",
              "      <td>9.556032</td>\n",
              "      <td>B</td>\n",
              "      <td>2914.589687</td>\n",
              "      <td>2</td>\n",
              "      <td>24</td>\n",
              "    </tr>\n",
              "    <tr>\n",
              "      <th>4</th>\n",
              "      <td>54</td>\n",
              "      <td>55</td>\n",
              "      <td>9.404370</td>\n",
              "      <td>B</td>\n",
              "      <td>517.240356</td>\n",
              "      <td>10</td>\n",
              "      <td>54</td>\n",
              "    </tr>\n",
              "    <tr>\n",
              "      <th>34</th>\n",
              "      <td>84</td>\n",
              "      <td>911</td>\n",
              "      <td>9.891613</td>\n",
              "      <td>C</td>\n",
              "      <td>9011.259597</td>\n",
              "      <td>8</td>\n",
              "      <td>55</td>\n",
              "    </tr>\n",
              "  </tbody>\n",
              "</table>\n",
              "</div>"
            ],
            "text/plain": [
              "    identifiant_client  unites  prix_moyen secteur     CA_moyen  anciennete  \\\n",
              "15                  65     693   10.152900       A  7035.959710           8   \n",
              "7                   57     182   10.956827       B  1994.142477           3   \n",
              "8                   58     366    9.517824       A  3483.523547           0   \n",
              "23                  73     763   10.765984       C  8214.445795           9   \n",
              "31                  81     721    9.861330       C  7110.019004           9   \n",
              "26                  76     368   12.208447       C  4492.708620           9   \n",
              "41                  91     191   10.327169       A  1972.489217           3   \n",
              "14                  64     305    9.556032       B  2914.589687           2   \n",
              "4                   54      55    9.404370       B   517.240356          10   \n",
              "34                  84     911    9.891613       C  9011.259597           8   \n",
              "\n",
              "    age_du_gerant  \n",
              "15             26  \n",
              "7              30  \n",
              "8              30  \n",
              "23             50  \n",
              "31             63  \n",
              "26             63  \n",
              "41             42  \n",
              "14             24  \n",
              "4              54  \n",
              "34             55  "
            ]
          },
          "metadata": {
            "tags": []
          },
          "execution_count": 83
        }
      ]
    },
    {
      "metadata": {
        "id": "Vuq4ipP4IM-n",
        "colab_type": "code",
        "outputId": "78804527-004f-475b-a963-7b9c4af9ff02",
        "colab": {
          "base_uri": "https://localhost:8080/",
          "height": 359
        }
      },
      "cell_type": "code",
      "source": [
        "# Jointure 'union'\n",
        "\n",
        "j_u = pd.merge(df, df_complem, on = 'identifiant_client', how = 'outer')\n",
        "j_u.sample(10)"
      ],
      "execution_count": 0,
      "outputs": [
        {
          "output_type": "execute_result",
          "data": {
            "text/html": [
              "<div>\n",
              "<style scoped>\n",
              "    .dataframe tbody tr th:only-of-type {\n",
              "        vertical-align: middle;\n",
              "    }\n",
              "\n",
              "    .dataframe tbody tr th {\n",
              "        vertical-align: top;\n",
              "    }\n",
              "\n",
              "    .dataframe thead th {\n",
              "        text-align: right;\n",
              "    }\n",
              "</style>\n",
              "<table border=\"1\" class=\"dataframe\">\n",
              "  <thead>\n",
              "    <tr style=\"text-align: right;\">\n",
              "      <th></th>\n",
              "      <th>identifiant_client</th>\n",
              "      <th>unites</th>\n",
              "      <th>prix_moyen</th>\n",
              "      <th>secteur</th>\n",
              "      <th>CA_moyen</th>\n",
              "      <th>anciennete</th>\n",
              "      <th>age_du_gerant</th>\n",
              "    </tr>\n",
              "  </thead>\n",
              "  <tbody>\n",
              "    <tr>\n",
              "      <th>118</th>\n",
              "      <td>118</td>\n",
              "      <td>NaN</td>\n",
              "      <td>NaN</td>\n",
              "      <td>NaN</td>\n",
              "      <td>NaN</td>\n",
              "      <td>NaN</td>\n",
              "      <td>31.0</td>\n",
              "    </tr>\n",
              "    <tr>\n",
              "      <th>68</th>\n",
              "      <td>68</td>\n",
              "      <td>103.0</td>\n",
              "      <td>11.412382</td>\n",
              "      <td>B</td>\n",
              "      <td>1175.475309</td>\n",
              "      <td>6.0</td>\n",
              "      <td>34.0</td>\n",
              "    </tr>\n",
              "    <tr>\n",
              "      <th>70</th>\n",
              "      <td>70</td>\n",
              "      <td>18.0</td>\n",
              "      <td>9.184353</td>\n",
              "      <td>C</td>\n",
              "      <td>165.318349</td>\n",
              "      <td>7.0</td>\n",
              "      <td>41.0</td>\n",
              "    </tr>\n",
              "    <tr>\n",
              "      <th>94</th>\n",
              "      <td>94</td>\n",
              "      <td>241.0</td>\n",
              "      <td>9.856383</td>\n",
              "      <td>B</td>\n",
              "      <td>2375.388305</td>\n",
              "      <td>6.0</td>\n",
              "      <td>46.0</td>\n",
              "    </tr>\n",
              "    <tr>\n",
              "      <th>45</th>\n",
              "      <td>45</td>\n",
              "      <td>760.0</td>\n",
              "      <td>9.863591</td>\n",
              "      <td>A</td>\n",
              "      <td>7496.328904</td>\n",
              "      <td>1.0</td>\n",
              "      <td>NaN</td>\n",
              "    </tr>\n",
              "    <tr>\n",
              "      <th>107</th>\n",
              "      <td>107</td>\n",
              "      <td>NaN</td>\n",
              "      <td>NaN</td>\n",
              "      <td>NaN</td>\n",
              "      <td>NaN</td>\n",
              "      <td>NaN</td>\n",
              "      <td>57.0</td>\n",
              "    </tr>\n",
              "    <tr>\n",
              "      <th>93</th>\n",
              "      <td>93</td>\n",
              "      <td>879.0</td>\n",
              "      <td>8.797883</td>\n",
              "      <td>A</td>\n",
              "      <td>7733.338810</td>\n",
              "      <td>6.0</td>\n",
              "      <td>53.0</td>\n",
              "    </tr>\n",
              "    <tr>\n",
              "      <th>19</th>\n",
              "      <td>19</td>\n",
              "      <td>456.0</td>\n",
              "      <td>10.777578</td>\n",
              "      <td>B</td>\n",
              "      <td>4914.575436</td>\n",
              "      <td>6.0</td>\n",
              "      <td>NaN</td>\n",
              "    </tr>\n",
              "    <tr>\n",
              "      <th>101</th>\n",
              "      <td>101</td>\n",
              "      <td>NaN</td>\n",
              "      <td>NaN</td>\n",
              "      <td>NaN</td>\n",
              "      <td>NaN</td>\n",
              "      <td>NaN</td>\n",
              "      <td>41.0</td>\n",
              "    </tr>\n",
              "    <tr>\n",
              "      <th>88</th>\n",
              "      <td>88</td>\n",
              "      <td>400.0</td>\n",
              "      <td>10.094043</td>\n",
              "      <td>C</td>\n",
              "      <td>4037.617286</td>\n",
              "      <td>0.0</td>\n",
              "      <td>48.0</td>\n",
              "    </tr>\n",
              "  </tbody>\n",
              "</table>\n",
              "</div>"
            ],
            "text/plain": [
              "     identifiant_client  unites  prix_moyen secteur     CA_moyen  anciennete  \\\n",
              "118                 118     NaN         NaN     NaN          NaN         NaN   \n",
              "68                   68   103.0   11.412382       B  1175.475309         6.0   \n",
              "70                   70    18.0    9.184353       C   165.318349         7.0   \n",
              "94                   94   241.0    9.856383       B  2375.388305         6.0   \n",
              "45                   45   760.0    9.863591       A  7496.328904         1.0   \n",
              "107                 107     NaN         NaN     NaN          NaN         NaN   \n",
              "93                   93   879.0    8.797883       A  7733.338810         6.0   \n",
              "19                   19   456.0   10.777578       B  4914.575436         6.0   \n",
              "101                 101     NaN         NaN     NaN          NaN         NaN   \n",
              "88                   88   400.0   10.094043       C  4037.617286         0.0   \n",
              "\n",
              "     age_du_gerant  \n",
              "118           31.0  \n",
              "68            34.0  \n",
              "70            41.0  \n",
              "94            46.0  \n",
              "45             NaN  \n",
              "107           57.0  \n",
              "93            53.0  \n",
              "19             NaN  \n",
              "101           41.0  \n",
              "88            48.0  "
            ]
          },
          "metadata": {
            "tags": []
          },
          "execution_count": 86
        }
      ]
    },
    {
      "metadata": {
        "id": "yeeCz0bcIo35",
        "colab_type": "text"
      },
      "cell_type": "markdown",
      "source": [
        "Les quatre types de jointures ne renvoient pas les mêmes résultats. Cela peut se voir sur les dimensions finales des quatre tables. "
      ]
    },
    {
      "metadata": {
        "id": "WO4jHBYQIVdH",
        "colab_type": "code",
        "outputId": "8fb7248d-314d-44d2-a049-48a7c63e1e16",
        "colab": {
          "base_uri": "https://localhost:8080/",
          "height": 85
        }
      },
      "cell_type": "code",
      "source": [
        "print(\"Table de jointure à gauche : %s lignes\" % j_g.shape[0])\n",
        "print(\"Table de jointure à droite lignes : %s lignes\" % j_d.shape[0])\n",
        "print(\"Table de jointure par intersection : %s lignes\" % j_i.shape[0])\n",
        "print(\"Table de jointure par union : %s lignes\" % j_u.shape[0])"
      ],
      "execution_count": 0,
      "outputs": [
        {
          "output_type": "stream",
          "text": [
            "Table de jointure à gauche : 100 lignes\n",
            "Table de jointure à droite lignes : 70 lignes\n",
            "Table de jointure par intersection : 50 lignes\n",
            "Table de jointure par union : 120 lignes\n"
          ],
          "name": "stdout"
        }
      ]
    },
    {
      "metadata": {
        "id": "c_9Y_RLAJYKD",
        "colab_type": "text"
      },
      "cell_type": "markdown",
      "source": [
        "Explication : \n",
        "\n",
        "*   La table **df** a 100 lignes, la jointure gauche **j_g** a donc gardé toutes ses lignes et associé les valeurs pour lesquelles **df_complem** avait une entrée.\n",
        "*   La table **df_complem** a 70 lignes, la jointure droite **j_d** a donc gardé toutes ses lignes et associé les valeurs pour lesquelles **df** avait une entrée.\n",
        "*   La table **df** a les indices clients de 0 à 99; la table **df_complem** a les indices de 50 à 119. Les indices communs vont donc de 50 à 99, soient les 50 observations de **j_i**.\n",
        "*   La jointure **j_u** a simplement gardé toutes les observations, même celles qui n'avaient pas de valeur associée suite à la jointure.\n",
        "\n"
      ]
    },
    {
      "metadata": {
        "id": "VSEjqD_2IZVQ",
        "colab_type": "code",
        "colab": {}
      },
      "cell_type": "code",
      "source": [
        ""
      ],
      "execution_count": 0,
      "outputs": []
    }
  ]
}