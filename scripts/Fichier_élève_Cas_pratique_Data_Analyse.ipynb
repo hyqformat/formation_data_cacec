{
  "nbformat": 4,
  "nbformat_minor": 0,
  "metadata": {
    "colab": {
      "name": "Fichier élève - Cas pratique Data Analyse.ipynb",
      "version": "0.3.2",
      "provenance": [],
      "collapsed_sections": []
    },
    "kernelspec": {
      "name": "python3",
      "display_name": "Python 3"
    }
  },
  "cells": [
    {
      "metadata": {
        "id": "NceXTm5s-UI4",
        "colab_type": "text"
      },
      "cell_type": "markdown",
      "source": [
        "# Détecter une fraude du service des achats à partir de la Data Analyse"
      ]
    },
    {
      "metadata": {
        "id": "kr458Vbh9wMi",
        "colab_type": "text"
      },
      "cell_type": "markdown",
      "source": [
        "Vous souhaitez auditer le service des achats d’une entreprise dont vous avez eu vent d’irrégularité sur les dépenses pétrolières. Vous avez pour cela intégré les services SAP qui ont structuré vos données selon leur nomenclature.\n",
        "\n",
        "\n",
        "**Votre rôle** : identifier l’irrégularité et la personne à l’origine."
      ]
    },
    {
      "metadata": {
        "id": "AqjF9q3A-d4B",
        "colab_type": "code",
        "colab": {}
      },
      "cell_type": "code",
      "source": [
        "# A exécuter (Alt + Entrée)\n",
        "%pip install vega"
      ],
      "execution_count": 0,
      "outputs": []
    },
    {
      "metadata": {
        "id": "WyzJOP8p9mUm",
        "colab_type": "code",
        "colab": {}
      },
      "cell_type": "code",
      "source": [
        "# A exécuter (Alt + Entrée)\n",
        "from IPython.core.interactiveshell import InteractiveShell\n",
        "InteractiveShell.ast_node_interactivity = 'all'\n",
        "import matplotlib.pyplot as plt\n",
        "%matplotlib inline"
      ],
      "execution_count": 0,
      "outputs": []
    },
    {
      "metadata": {
        "id": "5k2yQRqq-lWO",
        "colab_type": "code",
        "colab": {}
      },
      "cell_type": "code",
      "source": [
        "# A exécuter (Alt + Entrée)\n",
        "import pandas as pd\n",
        "import altair as alt\n",
        "from altair import *\n",
        "import numpy as np\n",
        "pd.set_option('display.float_format', lambda x: '%.4f' % x)"
      ],
      "execution_count": 0,
      "outputs": []
    },
    {
      "metadata": {
        "id": "-UANcGTA_zKD",
        "colab_type": "text"
      },
      "cell_type": "markdown",
      "source": [
        "## Lecture de tables"
      ]
    },
    {
      "metadata": {
        "id": "DdPvnehg_5mz",
        "colab_type": "text"
      },
      "cell_type": "markdown",
      "source": [
        "3 tables SAP sont à votre disposition : \n",
        "\n",
        "\n",
        "*   [EKKO](https://raw.githubusercontent.com/hyqformat/formation_data_cacec/master/EKKO.csv) - table de stockage de l'en-tête des documents d'achat\n",
        "*   [EKPO](https://raw.githubusercontent.com/hyqformat/formation_data_cacec/master/EKPO.csv) - table de stockage des items des documents d'achat\n",
        "*   [KONV](https://raw.githubusercontent.com/hyqformat/formation_data_cacec/master/KONV.csv) - table de stockage des données transactionnelles\n"
      ]
    },
    {
      "metadata": {
        "id": "JK0UJ_s_Cer_",
        "colab_type": "text"
      },
      "cell_type": "markdown",
      "source": [
        "Ce sont des tables SAP "
      ]
    },
    {
      "metadata": {
        "id": "Izk5RgyB_yja",
        "colab_type": "code",
        "colab": {}
      },
      "cell_type": "code",
      "source": [
        "## EXERCICE : Ecrire la commande Python qui permet de lire les 3 tables\n",
        "\n",
        "# Indice : utiliser la librairie pandas et la fonction read_csv\n",
        "ekko_table = # A FAIRE\n",
        "ekpo_table = # A FAIRE\n",
        "konv_table = # A FAIRE"
      ],
      "execution_count": 0,
      "outputs": []
    },
    {
      "metadata": {
        "id": "sac_U8JgAWtm",
        "colab_type": "code",
        "colab": {}
      },
      "cell_type": "code",
      "source": [
        "## EXERCICE : Afficher les premières lignes d'une des tables (au choix)"
      ],
      "execution_count": 0,
      "outputs": []
    },
    {
      "metadata": {
        "id": "SB8hOdzHAhIf",
        "colab_type": "code",
        "colab": {}
      },
      "cell_type": "code",
      "source": [
        "## EXERCICE : Afficher les noms des colonnes des trois tables"
      ],
      "execution_count": 0,
      "outputs": []
    },
    {
      "metadata": {
        "id": "i4-yQe85A9Kz",
        "colab_type": "text"
      },
      "cell_type": "markdown",
      "source": [
        "Comme il y a trop de colonnes, nous choisissons de ne garder que certains attributs de chaque table : \n",
        "\n",
        "*   `EKKO` : `EBELN`, `ERNAM`, `LIFNR`, `KNUMV`\n",
        "*   `EKPO` : `EBELN`, `EBELP`, `TXZ01`, `MATNR`, `MENGE`, `NETPR`, `NETWR`\n",
        "*   `KONV` : `KNUMV`, `KPOSN`, `STUNR`, `KSCHL`, `KAWRT`, `KBETR`\n",
        "\n",
        "---\n",
        "\n",
        "Note : vous pouvez retrouver la signification de ces attributs aux liens suivants : \n",
        "\n",
        "*   [EKKO](https://www.se80.co.uk/saptables/e/ekko/ekko.htm)\n",
        "*   [EKPO](https://www.leanx.eu/en/sap/table/ekpo.html)\n",
        "*   [KONV](https://www.se80.co.uk/saptables/k/konv/konv.htm)\n",
        "\n",
        "\n"
      ]
    },
    {
      "metadata": {
        "id": "gc2IVTVTDhBb",
        "colab_type": "code",
        "colab": {}
      },
      "cell_type": "code",
      "source": [
        "## EXERCICE : écrire trois listes avec les attributs à garder\n",
        "kept_columns_ekko = # A FAIRE\n",
        "kept_columns_ekpo = # A FAIRE\n",
        "kept_columns_konv = # A FAIRE"
      ],
      "execution_count": 0,
      "outputs": []
    },
    {
      "metadata": {
        "id": "QCd6O-UGDym2",
        "colab_type": "code",
        "colab": {}
      },
      "cell_type": "code",
      "source": [
        "## EXERCICE : filtrer les tables EKKO, EKPO et KONV à partir des trois vecteurs précédents\n",
        "ekko = # A FAIRE\n",
        "ekpo = # A FAIRE\n",
        "konv = # A FAIRE"
      ],
      "execution_count": 0,
      "outputs": []
    },
    {
      "metadata": {
        "id": "ZXXtZy6fEu5f",
        "colab_type": "code",
        "colab": {}
      },
      "cell_type": "code",
      "source": [
        "## EXERCICE : Visualiser les premières lignes d'une des trois tables"
      ],
      "execution_count": 0,
      "outputs": []
    },
    {
      "metadata": {
        "id": "EmvDyHSlA3V8",
        "colab_type": "text"
      },
      "cell_type": "markdown",
      "source": [
        "## Calculs sur les tables de commandes"
      ]
    },
    {
      "metadata": {
        "id": "755vfjteFB1Q",
        "colab_type": "text"
      },
      "cell_type": "markdown",
      "source": [
        "On s'intéresse aux commandes du produit `BRENTCRUDE`, dont l'historique des données se trouve dans la table `EKPO`."
      ]
    },
    {
      "metadata": {
        "id": "yM8H0-7gAomr",
        "colab_type": "code",
        "colab": {}
      },
      "cell_type": "code",
      "source": [
        "## EXERCICE : Filtrer la table EKPO en ne gardant que les observations dont l'attribut 'MATNR' est égal à 'BRENTCRUDE'\n",
        "ekpo_bco = # A FAIRE"
      ],
      "execution_count": 0,
      "outputs": []
    },
    {
      "metadata": {
        "id": "GlXjtZUHFhkj",
        "colab_type": "code",
        "colab": {}
      },
      "cell_type": "code",
      "source": [
        "## EXERCICE : Combien de commandes pour le BRENTCRUDE ont été passées ? "
      ],
      "execution_count": 0,
      "outputs": []
    },
    {
      "metadata": {
        "id": "6sv-EDqYFtRU",
        "colab_type": "text"
      },
      "cell_type": "markdown",
      "source": [
        "L'attribut **`NETWR`** correspond à la valeur nette du bien commandé. "
      ]
    },
    {
      "metadata": {
        "id": "Q-WmkqH6FySX",
        "colab_type": "code",
        "colab": {}
      },
      "cell_type": "code",
      "source": [
        "## EXERCICE : Calculer la valeur totale de Brent achetée"
      ],
      "execution_count": 0,
      "outputs": []
    },
    {
      "metadata": {
        "id": "hHuVNCrsGI3I",
        "colab_type": "text"
      },
      "cell_type": "markdown",
      "source": [
        "L'attribut **`MENGE`** correspond au volume de bien commandé."
      ]
    },
    {
      "metadata": {
        "id": "j7viGH2iGOpL",
        "colab_type": "code",
        "colab": {}
      },
      "cell_type": "code",
      "source": [
        "## EXERCICE : Calculer le volume moyen commandé sur toutes les commandes de Brent"
      ],
      "execution_count": 0,
      "outputs": []
    },
    {
      "metadata": {
        "id": "laPp4jD5G5jt",
        "colab_type": "text"
      },
      "cell_type": "markdown",
      "source": [
        "**Bonus** : Nous pouvons tracer un graphique pour jauger l'évolution des prix et des volumes selon la chronologie des ordres d'achat"
      ]
    },
    {
      "metadata": {
        "id": "aJS62opPHyaV",
        "colab_type": "code",
        "colab": {}
      },
      "cell_type": "code",
      "source": [
        "## Prix du Brent en fonction de l'historique d'achat\n",
        "v_netpr = alt.Chart().mark_line().encode(\n",
        "  x = alt.X('index', axis = alt.Axis(title = \"Ordre d'achat\")),\n",
        "  y = alt.Y('NETPR', scale = alt.Scale(domain = (4100, 4700)), axis = alt.Axis(title = \"Prix net effectif de Brent Crude Oil\"))\n",
        ")\n",
        "alt.layer(v_netpr, data = ekpo_bco.reset_index(), width = 600, height = 300)"
      ],
      "execution_count": 0,
      "outputs": []
    },
    {
      "metadata": {
        "id": "QRPSBCzgH5ah",
        "colab_type": "code",
        "colab": {}
      },
      "cell_type": "code",
      "source": [
        "v_menge = alt.Chart().mark_line().encode(\n",
        "    x=alt.X('index', axis=alt.Axis(title=\"Ordre d'achat\")),\n",
        "    y=alt.Y('MENGE', scale=alt.Scale(domain=(19500, 20500)), axis=alt.Axis(title=\"Volume d'ordres de Brent\"))\n",
        ")\n",
        "alt.layer(v_menge, data = ekpo_bco.reset_index(), width=600, height=300)"
      ],
      "execution_count": 0,
      "outputs": []
    },
    {
      "metadata": {
        "id": "_BjQWgH-IX06",
        "colab_type": "text"
      },
      "cell_type": "markdown",
      "source": [
        "## Jointure entre les en-têtes et les commandes"
      ]
    },
    {
      "metadata": {
        "id": "SSltVnSHIhay",
        "colab_type": "text"
      },
      "cell_type": "markdown",
      "source": [
        "`EKKO` et `EKPO` ont en commun d'avoir une colonne qui identifie le numéro de la commande (**`EBELN`**). "
      ]
    },
    {
      "metadata": {
        "id": "rceU5SGSIb7I",
        "colab_type": "code",
        "colab": {}
      },
      "cell_type": "code",
      "source": [
        "## EXERCICE : Ecrire une jointure entre EKKO et EKPO (restreinte aux commandes de Brent) à partir de la colonne pivot `EBELN`\n",
        "\n",
        "ekko_ekpo_bco = ## A FAIRE\n",
        "\n",
        "## Visualiser les premières lignes du résultat"
      ],
      "execution_count": 0,
      "outputs": []
    },
    {
      "metadata": {
        "id": "ndu75_OaJkF0",
        "colab_type": "text"
      },
      "cell_type": "markdown",
      "source": [
        "Trois attributs vont nous intéresser ici : \n",
        "\n",
        "*   **ERNAM** : identifiant de l'employé préposé aux achats.\n",
        "*   **LIFNR** : identifiant du fournisseur de Brent.\n",
        "*   **KNUMV** : identifiant des conditions associées à la transaction (utiles pour `KONV`)."
      ]
    },
    {
      "metadata": {
        "id": "15anILgwI1uX",
        "colab_type": "code",
        "colab": {}
      },
      "cell_type": "code",
      "source": [
        "## EXERCICE : retrouver le nombre de fournisseurs uniques, le nombre d'employés-acheteurs uniques et le nombre de conditions uniques\n",
        "\n",
        "# indice : utiliser '.unique()' à la suite du filtrage de data frame"
      ],
      "execution_count": 0,
      "outputs": []
    },
    {
      "metadata": {
        "id": "dExF_SIVKuGu",
        "colab_type": "code",
        "colab": {}
      },
      "cell_type": "code",
      "source": [
        "## EXERCICE : calculer le volume moyen d'ordres passés par chaque employé\n",
        "\n",
        "# indice : utiliser 'groupby' sur la variable ERNAM et calculer la moyenne sur MENGE"
      ],
      "execution_count": 0,
      "outputs": []
    },
    {
      "metadata": {
        "id": "Hfmy2UZXLs9o",
        "colab_type": "text"
      },
      "cell_type": "markdown",
      "source": [
        "**Bonus** : Nous pouvons retracer l'évolution des achats passés pour chaque employé. "
      ]
    },
    {
      "metadata": {
        "id": "N4XHmEnELsWO",
        "colab_type": "code",
        "colab": {}
      },
      "cell_type": "code",
      "source": [
        "base = alt.Chart().mark_line().encode(\n",
        "    x=alt.X('index', axis=alt.Axis(title=\"Ordres d'achat\")),\n",
        "    y=alt.Y('MENGE', scale=alt.Scale(domain=(19760, 20250)), axis=alt.Axis(title=\"Volume d'ordres d'achat passés sur le Brent\")),\n",
        "    color=alt.Color('ERNAM', legend=alt.Legend(title=\"Identifiant employé\"))\n",
        ")\n",
        "alt.layer(base, data = ekko_ekpo_bco.reset_index(), width=600, height=300)"
      ],
      "execution_count": 0,
      "outputs": []
    },
    {
      "metadata": {
        "id": "tm0okHCaMQ5e",
        "colab_type": "text"
      },
      "cell_type": "markdown",
      "source": [
        "## Analyse de la table `KONV`"
      ]
    },
    {
      "metadata": {
        "id": "mt70BOm9NYb5",
        "colab_type": "text"
      },
      "cell_type": "markdown",
      "source": [
        "La table `KONV` est assez particulière car à un même identifiant de condition `KNUMV` est associé plusieurs éléments qui caractérisent les conditions dans lesquelles la transaction a été faite. "
      ]
    },
    {
      "metadata": {
        "id": "hqkIBPCvOE42",
        "colab_type": "code",
        "colab": {}
      },
      "cell_type": "code",
      "source": [
        "## A exécuter\n",
        "# On ne veut que les identifiants de conditions de transactions étant intervenus dans les commandes de Brent\n",
        "konv_bco = konv[konv['KNUMV'].isin(ekko_ekpo_bco['KNUMV'])]"
      ],
      "execution_count": 0,
      "outputs": []
    },
    {
      "metadata": {
        "id": "IODS6vcZMdZt",
        "colab_type": "code",
        "colab": {}
      },
      "cell_type": "code",
      "source": [
        "## EXERCICE : retrouver la liste des conditions uniques dans la colonne `KSCHL` de KONV"
      ],
      "execution_count": 0,
      "outputs": []
    },
    {
      "metadata": {
        "id": "LOYNFv7zPUkH",
        "colab_type": "text"
      },
      "cell_type": "markdown",
      "source": [
        "Explication du code des conditions : \n",
        "*   `PBXX` : Prix brut\n",
        "*   `RB00` : Ristournes\n",
        "*   `NAVM` : Déductions fiscales\n",
        "*   `SKTO` : Ristournes en espèces\n",
        "*   `WOTB` : Prix effectif"
      ]
    },
    {
      "metadata": {
        "id": "126xdBO0N0IA",
        "colab_type": "code",
        "colab": {}
      },
      "cell_type": "code",
      "source": [
        "## EXERCICE : compter le nombre d'occurrences de chaque élément unique dans la colonne `KSCHL`"
      ],
      "execution_count": 0,
      "outputs": []
    },
    {
      "metadata": {
        "id": "hZ9JdSrbPfHC",
        "colab_type": "text"
      },
      "cell_type": "markdown",
      "source": [
        "Que remarquez-vous ? "
      ]
    },
    {
      "metadata": {
        "id": "034BsXgoPf1l",
        "colab_type": "code",
        "colab": {}
      },
      "cell_type": "code",
      "source": [
        "# A exécuter : à chaque transaction, on associe une valeur binaire (0/1) pour savoir si oui ou non cette transaction a bénéficié d'une ristourne. \n",
        "\n",
        "konv_bco_d = konv_bco.join(konv_bco['KSCHL'].str.get_dummies())\n",
        "rb00 = konv_bco_d.groupby('KNUMV')['RB00'].sum().reset_index()"
      ],
      "execution_count": 0,
      "outputs": []
    },
    {
      "metadata": {
        "id": "8ynhZN2OSp0P",
        "colab_type": "code",
        "colab": {}
      },
      "cell_type": "code",
      "source": [
        "# EXERCICE : réaliser la jointure entre ekko_ekpo_bco et rb00, à partir de la colonne KNUMV\n",
        "eek_bco = # A FAIRE"
      ],
      "execution_count": 0,
      "outputs": []
    },
    {
      "metadata": {
        "id": "CNBWyG_YS7m9",
        "colab_type": "text"
      },
      "cell_type": "markdown",
      "source": [
        "## Détection de la fraude"
      ]
    },
    {
      "metadata": {
        "id": "3MCrmjPXS8hc",
        "colab_type": "code",
        "colab": {}
      },
      "cell_type": "code",
      "source": [
        "## EXERCICE : Calculer le volume minimum et maximum des transactions pour lesquelles il y a eu un rabais\n",
        "\n",
        "## EXERCICE : Calculer le volume minimum et maximum des transactions pour lesquelles il n'y a pas eu de rabais"
      ],
      "execution_count": 0,
      "outputs": []
    },
    {
      "metadata": {
        "id": "ZPmCgkY_Tatu",
        "colab_type": "text"
      },
      "cell_type": "markdown",
      "source": [
        "Que constatez-vous ? "
      ]
    },
    {
      "metadata": {
        "id": "TeC1x3zDTcFK",
        "colab_type": "code",
        "colab": {}
      },
      "cell_type": "code",
      "source": [
        "# A exécuter\n",
        "eek_bco.groupby('RB00')[['MENGE', 'ERNAM']].agg({'MENGE': 'mean', 'ERNAM': 'unique'})"
      ],
      "execution_count": 0,
      "outputs": []
    },
    {
      "metadata": {
        "id": "c-MzXsPiTyOH",
        "colab_type": "text"
      },
      "cell_type": "markdown",
      "source": [
        "Qui est le responsable de la fraude ? Pouvez-vous expliquer la fraude ? "
      ]
    },
    {
      "metadata": {
        "id": "cgyr9bKXTz3v",
        "colab_type": "code",
        "colab": {}
      },
      "cell_type": "code",
      "source": [
        "## EXERCICE : calculer le nombre de transactions concernées \n",
        "\n",
        "## Indice : faire la différence de longueur entre ekko_ekpo_bco et konv_bco[konv_bco['KSCHL']=='RB00']"
      ],
      "execution_count": 0,
      "outputs": []
    },
    {
      "metadata": {
        "id": "ZxSwxMKKViSm",
        "colab_type": "code",
        "colab": {}
      },
      "cell_type": "code",
      "source": [
        "## EXERCICE : calculer le montant moyen des transactions concernées\n",
        "\n",
        "## Indice : faire la moyenne de konv_bco[konv_bco['KSCHL']=='RB00']['KBETR']"
      ],
      "execution_count": 0,
      "outputs": []
    },
    {
      "metadata": {
        "id": "9PIfMkMKV2yX",
        "colab_type": "code",
        "colab": {}
      },
      "cell_type": "code",
      "source": [
        "## EXERCICE : calculer le montant de la fraude"
      ],
      "execution_count": 0,
      "outputs": []
    },
    {
      "metadata": {
        "id": "ubi9GLx-V-ih",
        "colab_type": "text"
      },
      "cell_type": "markdown",
      "source": [
        "Chiffrez le sinistre ? "
      ]
    },
    {
      "metadata": {
        "id": "X14MG7vhV_37",
        "colab_type": "code",
        "colab": {}
      },
      "cell_type": "code",
      "source": [
        ""
      ],
      "execution_count": 0,
      "outputs": []
    }
  ]
}