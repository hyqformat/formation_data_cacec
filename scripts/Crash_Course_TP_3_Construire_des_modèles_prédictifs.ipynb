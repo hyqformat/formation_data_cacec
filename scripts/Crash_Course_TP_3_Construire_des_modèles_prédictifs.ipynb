{
  "nbformat": 4,
  "nbformat_minor": 0,
  "metadata": {
    "colab": {
      "name": "Crash Course - TP 3 : Construire des modèles prédictifs.ipynb",
      "version": "0.3.2",
      "provenance": [],
      "collapsed_sections": [],
      "toc_visible": true
    },
    "kernelspec": {
      "name": "python3",
      "display_name": "Python 3"
    }
  },
  "cells": [
    {
      "metadata": {
        "id": "XxlHwplu4FQl",
        "colab_type": "text"
      },
      "cell_type": "markdown",
      "source": [
        "# TP : Construction de modèles prédictifs"
      ]
    },
    {
      "metadata": {
        "id": "1xWu6S3p4Ji3",
        "colab_type": "text"
      },
      "cell_type": "markdown",
      "source": [
        "Propriétaires d'une chaîne d'établissements de grande distribution, nous souhaitons ouvrir un nouveau magasin dans une ville dans laquelle notre concurrent s'est déjà positionné. \n",
        "\n",
        "---\n",
        "\n",
        "Nous disposons pour cela de quatre tables de données. \n",
        "\n",
        "*   Table démographique (`demographic-data.csv`)\n",
        "*   Table des ventes (`monthly-sales-2010.csv`)\n",
        "*   Table du recensement de population (`partially-parsed-wy-web-scrape.csv`)\n",
        "*   Table des concurrents (`competitor-sales.csv`)\n"
      ]
    },
    {
      "metadata": {
        "id": "P8WIW3cIS2mx",
        "colab_type": "text"
      },
      "cell_type": "markdown",
      "source": [
        "# A. Construction d'un modèle de régression\n"
      ]
    },
    {
      "metadata": {
        "id": "GP5ojJ9CTJVo",
        "colab_type": "text"
      },
      "cell_type": "markdown",
      "source": [
        "La construction d'un modèle prédictif de régression se déroule en deux temps. \n",
        "\n",
        "1.   On établit un modèle avec les données historiques dont on dispose, afin que les liaisons et les corrélations entre les différents attributs (variables) expliquant un attribut-cible soient mises en place. \n",
        "2.   Puis, à partir de nouvelles données, non-vues par le premier modèle, on calcule la valeur que doit prendre l'attribut-cible à partir des variables explicatives. \n",
        "\n"
      ]
    },
    {
      "metadata": {
        "id": "h4b_TMsy6pDu",
        "colab_type": "text"
      },
      "cell_type": "markdown",
      "source": [
        "## i. Traitements sur la base"
      ]
    },
    {
      "metadata": {
        "id": "fjf9SZ4eVFCo",
        "colab_type": "code",
        "colab": {}
      },
      "cell_type": "code",
      "source": [
        "import pandas as pd\n",
        "import numpy as np"
      ],
      "execution_count": 0,
      "outputs": []
    },
    {
      "metadata": {
        "id": "oOmQaU4DSyB6",
        "colab_type": "code",
        "colab": {}
      },
      "cell_type": "code",
      "source": [
        "# Importer les fichiers\n",
        "demographics = pd.read_csv('https://raw.githubusercontent.com/hyqformat/formation_data_cacec/master/demographics.csv')\n",
        "total_sales_by_city = pd.read_csv('https://raw.githubusercontent.com/hyqformat/formation_data_cacec/master/total_sales_by_city.csv')\n",
        "competitors_sales_city = pd.read_csv('https://raw.githubusercontent.com/hyqformat/formation_data_cacec/master/competitors_sales_city.csv')\n",
        "census_2010 = pd.read_csv('https://raw.githubusercontent.com/hyqformat/formation_data_cacec/master/census_2010.csv')"
      ],
      "execution_count": 0,
      "outputs": []
    },
    {
      "metadata": {
        "id": "1AWfsI91VaeN",
        "colab_type": "code",
        "colab": {}
      },
      "cell_type": "code",
      "source": [
        "# Visualiser les en-têtes de chaque table\n",
        "# demographics.head()\n",
        "# total_sales_by_city.head()\n",
        "# competitors_sales_city.head()\n",
        "# census_2010.head()"
      ],
      "execution_count": 0,
      "outputs": []
    },
    {
      "metadata": {
        "id": "dEC_SSi1ViUP",
        "colab_type": "code",
        "outputId": "ddf3c1aa-701d-4367-d6f9-410697cda7b6",
        "colab": {
          "base_uri": "https://localhost:8080/",
          "height": 85
        }
      },
      "cell_type": "code",
      "source": [
        "# Dimensions de chaque table ? \n",
        "print(demographics.shape)\n",
        "print(total_sales_by_city.shape)\n",
        "print(competitors_sales_city.shape)\n",
        "print(census_2010.shape)"
      ],
      "execution_count": 0,
      "outputs": [
        {
          "output_type": "stream",
          "text": [
            "(99, 6)\n",
            "(11, 2)\n",
            "(17, 2)\n",
            "(99, 2)\n"
          ],
          "name": "stdout"
        }
      ]
    },
    {
      "metadata": {
        "id": "WoL1XJ7XW3eK",
        "colab_type": "text"
      },
      "cell_type": "markdown",
      "source": [
        "Nous allons à présent consolider les différentes tables, hors données de concurrents."
      ]
    },
    {
      "metadata": {
        "id": "rhAGW3lGWGUb",
        "colab_type": "code",
        "outputId": "936988a1-eac7-4d1a-a775-b6207ad90411",
        "colab": {
          "base_uri": "https://localhost:8080/",
          "height": 85
        }
      },
      "cell_type": "code",
      "source": [
        "# Consolider les tables hors compétiteurs\n",
        "print(demographics.columns)\n",
        "print(total_sales_by_city.columns)"
      ],
      "execution_count": 0,
      "outputs": [
        {
          "output_type": "stream",
          "text": [
            "Index(['City', 'County', 'Land Area', 'Households with Under 18',\n",
            "       'Population Density', 'Total Families'],\n",
            "      dtype='object')\n",
            "Index(['CITY', 'city_sales'], dtype='object')\n"
          ],
          "name": "stdout"
        }
      ]
    },
    {
      "metadata": {
        "id": "GZQeFJX0XDjn",
        "colab_type": "text"
      },
      "cell_type": "markdown",
      "source": [
        "**Attention, les deux tables n'ont pas le même nom pour la colonne \"pivot\"**. Dans ces cas : \n",
        "\n",
        "*   Soit on renomme les colonnes d'une des deux tables pour que les colonnes puissent correspondre (avec la fonction `map`)\n",
        "*   Soit on utilise un paramètre de la fonction `pd.merge` en distinguant `left_on` et `right_on`)\n",
        "\n"
      ]
    },
    {
      "metadata": {
        "id": "bUse-k7SWXOG",
        "colab_type": "code",
        "colab": {}
      },
      "cell_type": "code",
      "source": [
        "# Jointure données : VENTE et DEMOGRAPHIE\n",
        "consolidated_data = pd.merge(demographics, total_sales_by_city, left_on = 'City', right_on = 'CITY')"
      ],
      "execution_count": 0,
      "outputs": []
    },
    {
      "metadata": {
        "id": "YegJQtJgWmRt",
        "colab_type": "code",
        "outputId": "5a3aeb9f-ddd0-4965-f4af-d47e5a35d8a8",
        "colab": {
          "base_uri": "https://localhost:8080/",
          "height": 255
        }
      },
      "cell_type": "code",
      "source": [
        "## On peut vérifier les dimensions et la \"tête\" des données\n",
        "#print(consolidated_data.head())\n",
        "#print(consolidated_data.shape)"
      ],
      "execution_count": 0,
      "outputs": [
        {
          "output_type": "stream",
          "text": [
            "       City    County    Land Area  Households with Under 18  \\\n",
            "0  Gillette  Campbell  2748.852900                      4052   \n",
            "1   Douglas  Converse  1829.465100                       832   \n",
            "2  Riverton   Fremont  4796.859815                      2680   \n",
            "3   Buffalo   Johnson  3115.507500                       746   \n",
            "4  Cheyenne   Laramie  1500.178400                      7158   \n",
            "\n",
            "   Population Density  Total Families      CITY  city_sales  \n",
            "0                5.80         7189.43  Gillette      543132  \n",
            "1                1.46         1744.08   Douglas      208008  \n",
            "2                2.34         5556.49  Riverton      303264  \n",
            "3                1.55         1819.50   Buffalo      185328  \n",
            "4               20.34        14612.64  Cheyenne      917892  \n",
            "(11, 8)\n"
          ],
          "name": "stdout"
        }
      ]
    },
    {
      "metadata": {
        "id": "qkV35nPGWoTT",
        "colab_type": "code",
        "colab": {}
      },
      "cell_type": "code",
      "source": [
        "## On peut maintenant consolider avec la table restante. \n",
        "consolidated_data = pd.merge(consolidated_data, census_2010, on = \"City\")"
      ],
      "execution_count": 0,
      "outputs": []
    },
    {
      "metadata": {
        "id": "L9OUg07-YM6O",
        "colab_type": "code",
        "outputId": "84ef3aaf-5cea-4292-f8c7-b5ed44cec635",
        "colab": {
          "base_uri": "https://localhost:8080/",
          "height": 424
        }
      },
      "cell_type": "code",
      "source": [
        "## Visualisons la table consolidée\n",
        "consolidated_data"
      ],
      "execution_count": 0,
      "outputs": [
        {
          "output_type": "execute_result",
          "data": {
            "text/html": [
              "<div>\n",
              "<style scoped>\n",
              "    .dataframe tbody tr th:only-of-type {\n",
              "        vertical-align: middle;\n",
              "    }\n",
              "\n",
              "    .dataframe tbody tr th {\n",
              "        vertical-align: top;\n",
              "    }\n",
              "\n",
              "    .dataframe thead th {\n",
              "        text-align: right;\n",
              "    }\n",
              "</style>\n",
              "<table border=\"1\" class=\"dataframe\">\n",
              "  <thead>\n",
              "    <tr style=\"text-align: right;\">\n",
              "      <th></th>\n",
              "      <th>City</th>\n",
              "      <th>County</th>\n",
              "      <th>Land Area</th>\n",
              "      <th>Households with Under 18</th>\n",
              "      <th>Population Density</th>\n",
              "      <th>Total Families</th>\n",
              "      <th>CITY</th>\n",
              "      <th>city_sales</th>\n",
              "      <th>Census_2010</th>\n",
              "    </tr>\n",
              "  </thead>\n",
              "  <tbody>\n",
              "    <tr>\n",
              "      <th>0</th>\n",
              "      <td>Gillette</td>\n",
              "      <td>Campbell</td>\n",
              "      <td>2748.852900</td>\n",
              "      <td>4052</td>\n",
              "      <td>5.80</td>\n",
              "      <td>7189.43</td>\n",
              "      <td>Gillette</td>\n",
              "      <td>543132</td>\n",
              "      <td>29087</td>\n",
              "    </tr>\n",
              "    <tr>\n",
              "      <th>1</th>\n",
              "      <td>Douglas</td>\n",
              "      <td>Converse</td>\n",
              "      <td>1829.465100</td>\n",
              "      <td>832</td>\n",
              "      <td>1.46</td>\n",
              "      <td>1744.08</td>\n",
              "      <td>Douglas</td>\n",
              "      <td>208008</td>\n",
              "      <td>6120</td>\n",
              "    </tr>\n",
              "    <tr>\n",
              "      <th>2</th>\n",
              "      <td>Riverton</td>\n",
              "      <td>Fremont</td>\n",
              "      <td>4796.859815</td>\n",
              "      <td>2680</td>\n",
              "      <td>2.34</td>\n",
              "      <td>5556.49</td>\n",
              "      <td>Riverton</td>\n",
              "      <td>303264</td>\n",
              "      <td>10615</td>\n",
              "    </tr>\n",
              "    <tr>\n",
              "      <th>3</th>\n",
              "      <td>Buffalo</td>\n",
              "      <td>Johnson</td>\n",
              "      <td>3115.507500</td>\n",
              "      <td>746</td>\n",
              "      <td>1.55</td>\n",
              "      <td>1819.50</td>\n",
              "      <td>Buffalo</td>\n",
              "      <td>185328</td>\n",
              "      <td>4585</td>\n",
              "    </tr>\n",
              "    <tr>\n",
              "      <th>4</th>\n",
              "      <td>Cheyenne</td>\n",
              "      <td>Laramie</td>\n",
              "      <td>1500.178400</td>\n",
              "      <td>7158</td>\n",
              "      <td>20.34</td>\n",
              "      <td>14612.64</td>\n",
              "      <td>Cheyenne</td>\n",
              "      <td>917892</td>\n",
              "      <td>59466</td>\n",
              "    </tr>\n",
              "    <tr>\n",
              "      <th>5</th>\n",
              "      <td>Casper</td>\n",
              "      <td>Natrona</td>\n",
              "      <td>3894.309100</td>\n",
              "      <td>7788</td>\n",
              "      <td>11.16</td>\n",
              "      <td>8756.32</td>\n",
              "      <td>Casper</td>\n",
              "      <td>317736</td>\n",
              "      <td>35316</td>\n",
              "    </tr>\n",
              "    <tr>\n",
              "      <th>6</th>\n",
              "      <td>Cody</td>\n",
              "      <td>Park</td>\n",
              "      <td>2998.956960</td>\n",
              "      <td>1403</td>\n",
              "      <td>1.82</td>\n",
              "      <td>3515.62</td>\n",
              "      <td>Cody</td>\n",
              "      <td>218376</td>\n",
              "      <td>9520</td>\n",
              "    </tr>\n",
              "    <tr>\n",
              "      <th>7</th>\n",
              "      <td>Powell</td>\n",
              "      <td>Park</td>\n",
              "      <td>2673.574550</td>\n",
              "      <td>1251</td>\n",
              "      <td>1.62</td>\n",
              "      <td>3134.18</td>\n",
              "      <td>Powell</td>\n",
              "      <td>233928</td>\n",
              "      <td>6314</td>\n",
              "    </tr>\n",
              "    <tr>\n",
              "      <th>8</th>\n",
              "      <td>Sheridan</td>\n",
              "      <td>Sheridan</td>\n",
              "      <td>1893.977048</td>\n",
              "      <td>2646</td>\n",
              "      <td>8.98</td>\n",
              "      <td>6039.71</td>\n",
              "      <td>Sheridan</td>\n",
              "      <td>308232</td>\n",
              "      <td>17444</td>\n",
              "    </tr>\n",
              "    <tr>\n",
              "      <th>9</th>\n",
              "      <td>Rock Springs</td>\n",
              "      <td>Sweetwater</td>\n",
              "      <td>6620.201916</td>\n",
              "      <td>4022</td>\n",
              "      <td>2.78</td>\n",
              "      <td>7572.18</td>\n",
              "      <td>Rock Springs</td>\n",
              "      <td>253584</td>\n",
              "      <td>23036</td>\n",
              "    </tr>\n",
              "    <tr>\n",
              "      <th>10</th>\n",
              "      <td>Evanston</td>\n",
              "      <td>Uinta</td>\n",
              "      <td>999.497100</td>\n",
              "      <td>1486</td>\n",
              "      <td>4.95</td>\n",
              "      <td>2712.64</td>\n",
              "      <td>Evanston</td>\n",
              "      <td>283824</td>\n",
              "      <td>12359</td>\n",
              "    </tr>\n",
              "  </tbody>\n",
              "</table>\n",
              "</div>"
            ],
            "text/plain": [
              "            City      County    Land Area  Households with Under 18  \\\n",
              "0       Gillette    Campbell  2748.852900                      4052   \n",
              "1        Douglas    Converse  1829.465100                       832   \n",
              "2       Riverton     Fremont  4796.859815                      2680   \n",
              "3        Buffalo     Johnson  3115.507500                       746   \n",
              "4       Cheyenne     Laramie  1500.178400                      7158   \n",
              "5         Casper     Natrona  3894.309100                      7788   \n",
              "6           Cody        Park  2998.956960                      1403   \n",
              "7         Powell        Park  2673.574550                      1251   \n",
              "8       Sheridan    Sheridan  1893.977048                      2646   \n",
              "9   Rock Springs  Sweetwater  6620.201916                      4022   \n",
              "10      Evanston       Uinta   999.497100                      1486   \n",
              "\n",
              "    Population Density  Total Families          CITY  city_sales  Census_2010  \n",
              "0                 5.80         7189.43      Gillette      543132        29087  \n",
              "1                 1.46         1744.08       Douglas      208008         6120  \n",
              "2                 2.34         5556.49      Riverton      303264        10615  \n",
              "3                 1.55         1819.50       Buffalo      185328         4585  \n",
              "4                20.34        14612.64      Cheyenne      917892        59466  \n",
              "5                11.16         8756.32        Casper      317736        35316  \n",
              "6                 1.82         3515.62          Cody      218376         9520  \n",
              "7                 1.62         3134.18        Powell      233928         6314  \n",
              "8                 8.98         6039.71      Sheridan      308232        17444  \n",
              "9                 2.78         7572.18  Rock Springs      253584        23036  \n",
              "10                4.95         2712.64      Evanston      283824        12359  "
            ]
          },
          "metadata": {
            "tags": []
          },
          "execution_count": 26
        }
      ]
    },
    {
      "metadata": {
        "id": "WUEGaMMTYfv0",
        "colab_type": "text"
      },
      "cell_type": "markdown",
      "source": [
        "### Exercice : faire les mêmes jointures avec les données des compétiteurs"
      ]
    },
    {
      "metadata": {
        "id": "Vi11VO2_YO0P",
        "colab_type": "code",
        "colab": {}
      },
      "cell_type": "code",
      "source": [
        "### SOLUTION\n",
        "competitors_data = pd.merge(demographics, competitors_sales_city, left_on='City', right_on = 'Physical_city_name')\n",
        "competitors_data = pd.merge(competitors_data, census_2010, on='City')\n",
        "#competitors_data\n",
        "#competitors_data.describe()"
      ],
      "execution_count": 0,
      "outputs": []
    },
    {
      "metadata": {
        "id": "z2-GDjyG7flK",
        "colab_type": "text"
      },
      "cell_type": "markdown",
      "source": [
        "Une dernière chose : pour s'assurer que les tables `consolidated_data`(données de nos magasins, enrichies avec les données démographiques) et `competitors_data` (données des magasins de nos concurrents) soient nommées de façon homogène, nous allons leur donner des noms homogénéisés. "
      ]
    },
    {
      "metadata": {
        "id": "BDvv2u_ebXtW",
        "colab_type": "code",
        "colab": {}
      },
      "cell_type": "code",
      "source": [
        "## Renommons les variables \n",
        "\n",
        "rename_var = {\n",
        "    'Land Area': 'Land_Area',\n",
        "    'Households with Under 18': 'Households_under_18',\n",
        "    'Population Density' : 'Density',\n",
        "    'Total Families' : 'Total_Families',\n",
        "    'sum_sales_volume': 'City_Sales',\n",
        "    'city_sales': 'City_Sales'\n",
        "}"
      ],
      "execution_count": 0,
      "outputs": []
    },
    {
      "metadata": {
        "id": "-__fNqsnb_z_",
        "colab_type": "code",
        "colab": {}
      },
      "cell_type": "code",
      "source": [
        "consolidated_data = consolidated_data.rename(columns = rename_var)\n",
        "competitors_data = competitors_data.rename(columns = rename_var)"
      ],
      "execution_count": 0,
      "outputs": []
    },
    {
      "metadata": {
        "id": "ap0vulMmcRC0",
        "colab_type": "code",
        "outputId": "e5e4cbf1-2987-4ddc-e1ee-7ee3d58091d1",
        "colab": {
          "base_uri": "https://localhost:8080/",
          "height": 407
        }
      },
      "cell_type": "code",
      "source": [
        "# Visualisation, à nouveau\n",
        "consolidated_data"
      ],
      "execution_count": 0,
      "outputs": [
        {
          "output_type": "execute_result",
          "data": {
            "text/html": [
              "<div>\n",
              "<style scoped>\n",
              "    .dataframe tbody tr th:only-of-type {\n",
              "        vertical-align: middle;\n",
              "    }\n",
              "\n",
              "    .dataframe tbody tr th {\n",
              "        vertical-align: top;\n",
              "    }\n",
              "\n",
              "    .dataframe thead th {\n",
              "        text-align: right;\n",
              "    }\n",
              "</style>\n",
              "<table border=\"1\" class=\"dataframe\">\n",
              "  <thead>\n",
              "    <tr style=\"text-align: right;\">\n",
              "      <th></th>\n",
              "      <th>City</th>\n",
              "      <th>County</th>\n",
              "      <th>Land_Area</th>\n",
              "      <th>Households_under_18</th>\n",
              "      <th>Density</th>\n",
              "      <th>Total_Families</th>\n",
              "      <th>CITY</th>\n",
              "      <th>City_Sales</th>\n",
              "      <th>Census_2010</th>\n",
              "    </tr>\n",
              "  </thead>\n",
              "  <tbody>\n",
              "    <tr>\n",
              "      <th>0</th>\n",
              "      <td>Gillette</td>\n",
              "      <td>Campbell</td>\n",
              "      <td>2748.852900</td>\n",
              "      <td>4052</td>\n",
              "      <td>5.80</td>\n",
              "      <td>7189.43</td>\n",
              "      <td>Gillette</td>\n",
              "      <td>543132</td>\n",
              "      <td>29087</td>\n",
              "    </tr>\n",
              "    <tr>\n",
              "      <th>1</th>\n",
              "      <td>Douglas</td>\n",
              "      <td>Converse</td>\n",
              "      <td>1829.465100</td>\n",
              "      <td>832</td>\n",
              "      <td>1.46</td>\n",
              "      <td>1744.08</td>\n",
              "      <td>Douglas</td>\n",
              "      <td>208008</td>\n",
              "      <td>6120</td>\n",
              "    </tr>\n",
              "    <tr>\n",
              "      <th>2</th>\n",
              "      <td>Riverton</td>\n",
              "      <td>Fremont</td>\n",
              "      <td>4796.859815</td>\n",
              "      <td>2680</td>\n",
              "      <td>2.34</td>\n",
              "      <td>5556.49</td>\n",
              "      <td>Riverton</td>\n",
              "      <td>303264</td>\n",
              "      <td>10615</td>\n",
              "    </tr>\n",
              "    <tr>\n",
              "      <th>3</th>\n",
              "      <td>Buffalo</td>\n",
              "      <td>Johnson</td>\n",
              "      <td>3115.507500</td>\n",
              "      <td>746</td>\n",
              "      <td>1.55</td>\n",
              "      <td>1819.50</td>\n",
              "      <td>Buffalo</td>\n",
              "      <td>185328</td>\n",
              "      <td>4585</td>\n",
              "    </tr>\n",
              "    <tr>\n",
              "      <th>4</th>\n",
              "      <td>Cheyenne</td>\n",
              "      <td>Laramie</td>\n",
              "      <td>1500.178400</td>\n",
              "      <td>7158</td>\n",
              "      <td>20.34</td>\n",
              "      <td>14612.64</td>\n",
              "      <td>Cheyenne</td>\n",
              "      <td>917892</td>\n",
              "      <td>59466</td>\n",
              "    </tr>\n",
              "    <tr>\n",
              "      <th>5</th>\n",
              "      <td>Casper</td>\n",
              "      <td>Natrona</td>\n",
              "      <td>3894.309100</td>\n",
              "      <td>7788</td>\n",
              "      <td>11.16</td>\n",
              "      <td>8756.32</td>\n",
              "      <td>Casper</td>\n",
              "      <td>317736</td>\n",
              "      <td>35316</td>\n",
              "    </tr>\n",
              "    <tr>\n",
              "      <th>6</th>\n",
              "      <td>Cody</td>\n",
              "      <td>Park</td>\n",
              "      <td>2998.956960</td>\n",
              "      <td>1403</td>\n",
              "      <td>1.82</td>\n",
              "      <td>3515.62</td>\n",
              "      <td>Cody</td>\n",
              "      <td>218376</td>\n",
              "      <td>9520</td>\n",
              "    </tr>\n",
              "    <tr>\n",
              "      <th>7</th>\n",
              "      <td>Powell</td>\n",
              "      <td>Park</td>\n",
              "      <td>2673.574550</td>\n",
              "      <td>1251</td>\n",
              "      <td>1.62</td>\n",
              "      <td>3134.18</td>\n",
              "      <td>Powell</td>\n",
              "      <td>233928</td>\n",
              "      <td>6314</td>\n",
              "    </tr>\n",
              "    <tr>\n",
              "      <th>8</th>\n",
              "      <td>Sheridan</td>\n",
              "      <td>Sheridan</td>\n",
              "      <td>1893.977048</td>\n",
              "      <td>2646</td>\n",
              "      <td>8.98</td>\n",
              "      <td>6039.71</td>\n",
              "      <td>Sheridan</td>\n",
              "      <td>308232</td>\n",
              "      <td>17444</td>\n",
              "    </tr>\n",
              "    <tr>\n",
              "      <th>9</th>\n",
              "      <td>Rock Springs</td>\n",
              "      <td>Sweetwater</td>\n",
              "      <td>6620.201916</td>\n",
              "      <td>4022</td>\n",
              "      <td>2.78</td>\n",
              "      <td>7572.18</td>\n",
              "      <td>Rock Springs</td>\n",
              "      <td>253584</td>\n",
              "      <td>23036</td>\n",
              "    </tr>\n",
              "    <tr>\n",
              "      <th>10</th>\n",
              "      <td>Evanston</td>\n",
              "      <td>Uinta</td>\n",
              "      <td>999.497100</td>\n",
              "      <td>1486</td>\n",
              "      <td>4.95</td>\n",
              "      <td>2712.64</td>\n",
              "      <td>Evanston</td>\n",
              "      <td>283824</td>\n",
              "      <td>12359</td>\n",
              "    </tr>\n",
              "  </tbody>\n",
              "</table>\n",
              "</div>"
            ],
            "text/plain": [
              "            City      County    Land_Area  Households_under_18  Density  \\\n",
              "0       Gillette    Campbell  2748.852900                 4052     5.80   \n",
              "1        Douglas    Converse  1829.465100                  832     1.46   \n",
              "2       Riverton     Fremont  4796.859815                 2680     2.34   \n",
              "3        Buffalo     Johnson  3115.507500                  746     1.55   \n",
              "4       Cheyenne     Laramie  1500.178400                 7158    20.34   \n",
              "5         Casper     Natrona  3894.309100                 7788    11.16   \n",
              "6           Cody        Park  2998.956960                 1403     1.82   \n",
              "7         Powell        Park  2673.574550                 1251     1.62   \n",
              "8       Sheridan    Sheridan  1893.977048                 2646     8.98   \n",
              "9   Rock Springs  Sweetwater  6620.201916                 4022     2.78   \n",
              "10      Evanston       Uinta   999.497100                 1486     4.95   \n",
              "\n",
              "    Total_Families          CITY  City_Sales  Census_2010  \n",
              "0          7189.43      Gillette      543132        29087  \n",
              "1          1744.08       Douglas      208008         6120  \n",
              "2          5556.49      Riverton      303264        10615  \n",
              "3          1819.50       Buffalo      185328         4585  \n",
              "4         14612.64      Cheyenne      917892        59466  \n",
              "5          8756.32        Casper      317736        35316  \n",
              "6          3515.62          Cody      218376         9520  \n",
              "7          3134.18        Powell      233928         6314  \n",
              "8          6039.71      Sheridan      308232        17444  \n",
              "9          7572.18  Rock Springs      253584        23036  \n",
              "10         2712.64      Evanston      283824        12359  "
            ]
          },
          "metadata": {
            "tags": []
          },
          "execution_count": 30
        }
      ]
    },
    {
      "metadata": {
        "id": "KN_-8cdC79Ln",
        "colab_type": "text"
      },
      "cell_type": "markdown",
      "source": [
        "## ii. Calibrons un premier modèle de régression linéaire"
      ]
    },
    {
      "metadata": {
        "id": "dnufe06v8CVY",
        "colab_type": "text"
      },
      "cell_type": "markdown",
      "source": [
        "Construire un modèle suit une 'recette' assez classique : \n",
        "\n",
        "*   **Etape 1** : Identifier la variable-cible et les variables explicatives.\n",
        "*   **Etape 2** : Séparer l'échantillon d'entraînement de l'échantillon de test.\n",
        "*   **Etape 3** : Utiliser la librairie `scikit-learn` (`sklearn`) de Python pour construire le modèle, à partir de l'échantillon d'entraînement.\n",
        "*   **Etape 4** : Appliquer le modèle sur l'échantillon de test et apprécier sa qualité. \n",
        "\n",
        "\n"
      ]
    },
    {
      "metadata": {
        "id": "fUcLqtMB-fa1",
        "colab_type": "text"
      },
      "cell_type": "markdown",
      "source": [
        "### Etape 1"
      ]
    },
    {
      "metadata": {
        "id": "2MgQpuAo9AQv",
        "colab_type": "code",
        "colab": {}
      },
      "cell_type": "code",
      "source": [
        "# On définit les indices de nos observations\n",
        "consolidated_data = consolidated_data.set_index([consolidated_data['City'], consolidated_data['County']])"
      ],
      "execution_count": 0,
      "outputs": []
    },
    {
      "metadata": {
        "id": "a0o6RuIZ-cBZ",
        "colab_type": "code",
        "colab": {}
      },
      "cell_type": "code",
      "source": [
        "# Séparons les régresseurs (variables explicatives) de la cible\n",
        "regressors = ['Land_Area', 'Households_under_18', 'Density', 'Total_Families', 'Census_2010']\n",
        "target = ['City_Sales']"
      ],
      "execution_count": 0,
      "outputs": []
    },
    {
      "metadata": {
        "id": "q7gd1Sc29ue7",
        "colab_type": "code",
        "outputId": "8dea3aa7-7962-4e8b-b014-cfbef477186d",
        "colab": {
          "base_uri": "https://localhost:8080/",
          "height": 697
        }
      },
      "cell_type": "code",
      "source": [
        "## Visualisation \n",
        "print(consolidated_data[regressors])\n",
        "print(consolidated_data[target])"
      ],
      "execution_count": 0,
      "outputs": [
        {
          "output_type": "stream",
          "text": [
            "                           Land_Area  Households_under_18  Density  \\\n",
            "City         County                                                  \n",
            "Gillette     Campbell    2748.852900                 4052     5.80   \n",
            "Douglas      Converse    1829.465100                  832     1.46   \n",
            "Riverton     Fremont     4796.859815                 2680     2.34   \n",
            "Buffalo      Johnson     3115.507500                  746     1.55   \n",
            "Cheyenne     Laramie     1500.178400                 7158    20.34   \n",
            "Casper       Natrona     3894.309100                 7788    11.16   \n",
            "Cody         Park        2998.956960                 1403     1.82   \n",
            "Powell       Park        2673.574550                 1251     1.62   \n",
            "Sheridan     Sheridan    1893.977048                 2646     8.98   \n",
            "Rock Springs Sweetwater  6620.201916                 4022     2.78   \n",
            "Evanston     Uinta        999.497100                 1486     4.95   \n",
            "\n",
            "                         Total_Families  Census_2010  \n",
            "City         County                                   \n",
            "Gillette     Campbell           7189.43        29087  \n",
            "Douglas      Converse           1744.08         6120  \n",
            "Riverton     Fremont            5556.49        10615  \n",
            "Buffalo      Johnson            1819.50         4585  \n",
            "Cheyenne     Laramie           14612.64        59466  \n",
            "Casper       Natrona            8756.32        35316  \n",
            "Cody         Park               3515.62         9520  \n",
            "Powell       Park               3134.18         6314  \n",
            "Sheridan     Sheridan           6039.71        17444  \n",
            "Rock Springs Sweetwater         7572.18        23036  \n",
            "Evanston     Uinta              2712.64        12359  \n",
            "                         City_Sales\n",
            "City         County                \n",
            "Gillette     Campbell        543132\n",
            "Douglas      Converse        208008\n",
            "Riverton     Fremont         303264\n",
            "Buffalo      Johnson         185328\n",
            "Cheyenne     Laramie         917892\n",
            "Casper       Natrona         317736\n",
            "Cody         Park            218376\n",
            "Powell       Park            233928\n",
            "Sheridan     Sheridan        308232\n",
            "Rock Springs Sweetwater      253584\n",
            "Evanston     Uinta           283824\n"
          ],
          "name": "stdout"
        }
      ]
    },
    {
      "metadata": {
        "id": "6Ps6lR8j-mg-",
        "colab_type": "text"
      },
      "cell_type": "markdown",
      "source": [
        "### Etape 2"
      ]
    },
    {
      "metadata": {
        "id": "lgW6tLy495xp",
        "colab_type": "text"
      },
      "cell_type": "markdown",
      "source": [
        "Importons à présent la librairie `sklearn`, qui est la boîte à outils \"clés-en-mains\" de Python pour appliquer les méthodes de *machine learning*. "
      ]
    },
    {
      "metadata": {
        "id": "hztpe2L792je",
        "colab_type": "code",
        "colab": {}
      },
      "cell_type": "code",
      "source": [
        "# Comme nous n'aurons pas besoin de toutes les fonctions de sklearn, nous pouvons nous limiter à certaines fonctions\n",
        "from sklearn import linear_model\n",
        "from sklearn.model_selection import train_test_split"
      ],
      "execution_count": 0,
      "outputs": []
    },
    {
      "metadata": {
        "id": "ao-SOEfr-rSp",
        "colab_type": "text"
      },
      "cell_type": "markdown",
      "source": [
        "Nous allons effectuer nos séparations des échantillons d'entraînement et de test, grâce à la fonction `train_test_split`. "
      ]
    },
    {
      "metadata": {
        "id": "6IbcoFa2-WF7",
        "colab_type": "code",
        "colab": {}
      },
      "cell_type": "code",
      "source": [
        "X_train, X_test, y_train, y_test = train_test_split(consolidated_data[regressors], \n",
        "                                                    consolidated_data[target], \n",
        "                                                    test_size=0.1, \n",
        "                                                    random_state=42)"
      ],
      "execution_count": 0,
      "outputs": []
    },
    {
      "metadata": {
        "id": "d4t4lgXm-9gt",
        "colab_type": "text"
      },
      "cell_type": "markdown",
      "source": [
        "Explications : \n",
        "\n",
        "*   `test_size` est l'argument qui spécife la taille de l'échantillon test. Ici, `test_size = 0.1` signifie que 10% des observations serviront de données de test, et 90% serviront de données d'entraînement.\n",
        "*   `random_state` : l'utilisateur choisit un numéro qui permettra ensuite de reproduire l'exemple (aléatoire) avec d'autres utilisateurs.\n",
        "\n"
      ]
    },
    {
      "metadata": {
        "id": "VtRUVrcg_mo9",
        "colab_type": "text"
      },
      "cell_type": "markdown",
      "source": [
        "### Etape 3"
      ]
    },
    {
      "metadata": {
        "id": "YcDC6oqf_0Zk",
        "colab_type": "text"
      },
      "cell_type": "markdown",
      "source": [
        "En 2 lignes de code, on parvient à :\n",
        "\n",
        "*   Construire un modèle linéaire de régression;\n",
        "*   Adapter les bons \"poids\" à chaque variable, eu égard de la variable-cible.\n",
        "\n"
      ]
    },
    {
      "metadata": {
        "id": "PqdTwPEt_n8G",
        "colab_type": "code",
        "outputId": "62228483-e97d-4693-9c0c-f0c550e72772",
        "colab": {
          "base_uri": "https://localhost:8080/",
          "height": 51
        }
      },
      "cell_type": "code",
      "source": [
        "regr = linear_model.LinearRegression()\n",
        "regr.fit(X_train[regressors], y_train)"
      ],
      "execution_count": 0,
      "outputs": [
        {
          "output_type": "execute_result",
          "data": {
            "text/plain": [
              "LinearRegression(copy_X=True, fit_intercept=True, n_jobs=None,\n",
              "         normalize=False)"
            ]
          },
          "metadata": {
            "tags": []
          },
          "execution_count": 36
        }
      ]
    },
    {
      "metadata": {
        "id": "HcKpPebFAPH1",
        "colab_type": "text"
      },
      "cell_type": "markdown",
      "source": [
        "### Etape 4"
      ]
    },
    {
      "metadata": {
        "id": "qJwb9UDaBxxI",
        "colab_type": "text"
      },
      "cell_type": "markdown",
      "source": [
        "A présent, on calcule les ventes prédites à partir du modèle, à la fois sur l'échantillon d'apprentissage et sur l'échantillon de test."
      ]
    },
    {
      "metadata": {
        "id": "d9TTpZL7AQ5X",
        "colab_type": "code",
        "colab": {}
      },
      "cell_type": "code",
      "source": [
        "# Importation de la métrique de l'erreur quadratique\n",
        "from sklearn.metrics import mean_squared_error"
      ],
      "execution_count": 0,
      "outputs": []
    },
    {
      "metadata": {
        "id": "De1HiBuBB-o9",
        "colab_type": "code",
        "colab": {}
      },
      "cell_type": "code",
      "source": [
        "# Calcul de la prédiction des ventes\n",
        "predictions_ventes = regr.predict(X_test[regressors])"
      ],
      "execution_count": 0,
      "outputs": []
    },
    {
      "metadata": {
        "id": "FlxGG9svC0u1",
        "colab_type": "code",
        "colab": {}
      },
      "cell_type": "code",
      "source": [
        "# Calcul des erreurs\n",
        "erreur_ech_test = np.sqrt(mean_squared_error(predictions_ventes, y_test))\n",
        "erreur_ech_train = np.sqrt(mean_squared_error(regr.predict(X_train[regressors]), y_train))"
      ],
      "execution_count": 0,
      "outputs": []
    },
    {
      "metadata": {
        "id": "ix3vHn8wC93k",
        "colab_type": "code",
        "outputId": "14685b6b-7379-49a0-8de9-9cd5e1666890",
        "colab": {
          "base_uri": "https://localhost:8080/",
          "height": 51
        }
      },
      "cell_type": "code",
      "source": [
        "print(\"Erreur sur l'échantillon d'entrainement : %s\" % round(erreur_ech_train))\n",
        "print(\"Erreur sur l'échantillon de test : %s\" % round(erreur_ech_test))"
      ],
      "execution_count": 0,
      "outputs": [
        {
          "output_type": "stream",
          "text": [
            "Erreur sur l'échantillon d'entrainement : 40429.0\n",
            "Erreur sur l'échantillon de test : 121934.0\n"
          ],
          "name": "stdout"
        }
      ]
    },
    {
      "metadata": {
        "id": "vW1KT5CxDNWo",
        "colab_type": "text"
      },
      "cell_type": "markdown",
      "source": [
        "Qu'en concluez-vous ? "
      ]
    },
    {
      "metadata": {
        "id": "li0Exb8bZiFc",
        "colab_type": "text"
      },
      "cell_type": "markdown",
      "source": [
        "## iii. Comment améliorer le modèle ? "
      ]
    },
    {
      "metadata": {
        "id": "0HnbLuCY5IJS",
        "colab_type": "text"
      },
      "cell_type": "markdown",
      "source": [
        "L'exemple précédent nous a montré que le modèle était sujet à un risque de sur-apprentissage, c'est-à-dire que l'erreur relevée sur l'échantillon d'apprentissage était nettement inférieure à l'erreur sur l'échantillon test. \n",
        "\n",
        "---\n",
        "\n",
        "Cela peut être dû à plusieurs raisons : \n",
        "\n",
        "*   Corrélation trop forte entre les variables explicatives ? \n",
        "*   Variance (dispersion) trop forte entre les observations ?\n",
        "\n",
        "\n"
      ]
    },
    {
      "metadata": {
        "id": "nmz-DGJEY8CM",
        "colab_type": "text"
      },
      "cell_type": "markdown",
      "source": [
        "### Retrait des données aberrantes"
      ]
    },
    {
      "metadata": {
        "id": "I0OYkY2kZRbn",
        "colab_type": "text"
      },
      "cell_type": "markdown",
      "source": [
        "<img src=\"https://www.statisticshowto.datasciencecentral.com/wp-content/uploads/2012/03/iqr.jpg\">"
      ]
    },
    {
      "metadata": {
        "id": "9SUcGyv4bLQy",
        "colab_type": "code",
        "colab": {}
      },
      "cell_type": "code",
      "source": [
        "## Calcul de l'IQR\n",
        "interesting_data = consolidated_data[regressors].copy()\n",
        "Q1 = interesting_data.quantile(0.25)\n",
        "Q3 = interesting_data.quantile(0.75)\n",
        "IQR = Q3 - Q1"
      ],
      "execution_count": 0,
      "outputs": []
    },
    {
      "metadata": {
        "id": "R07tD7Z9bSo-",
        "colab_type": "code",
        "outputId": "429bd31e-765a-4ad7-fda1-d5a8fdc6e3a1",
        "colab": {
          "base_uri": "https://localhost:8080/",
          "height": 34
        }
      },
      "cell_type": "code",
      "source": [
        "## Quelles sont les villes aberrantes (qui créent une variance trop importante ?)\n",
        "df = interesting_data[~((interesting_data < (Q1 - 1.5 * IQR)) |(interesting_data > (Q3 + 1.5 * IQR))).any(axis=1)]\n",
        "indices_to_exclude = set(interesting_data.index.values) - set(df.index.values)\n",
        "print(indices_to_exclude)"
      ],
      "execution_count": 0,
      "outputs": [
        {
          "output_type": "stream",
          "text": [
            "{('Cheyenne', 'Laramie'), ('Rock Springs', 'Sweetwater')}\n"
          ],
          "name": "stdout"
        }
      ]
    },
    {
      "metadata": {
        "id": "j6etQP5EiVbM",
        "colab_type": "code",
        "colab": {}
      },
      "cell_type": "code",
      "source": [
        "## Data privée des valeurs aberrantes\n",
        "bad = consolidated_data.index.isin(indices_to_exclude)\n",
        "outlier_free_data_frame = consolidated_data[~bad]"
      ],
      "execution_count": 0,
      "outputs": []
    },
    {
      "metadata": {
        "id": "2twHenW7isRY",
        "colab_type": "text"
      },
      "cell_type": "markdown",
      "source": [
        "### Choix des variables indépendantes entre elles"
      ]
    },
    {
      "metadata": {
        "id": "bSugu8Iqiw1t",
        "colab_type": "code",
        "colab": {}
      },
      "cell_type": "code",
      "source": [
        "import seaborn as sns\n",
        "import matplotlib.pyplot as plt"
      ],
      "execution_count": 0,
      "outputs": []
    },
    {
      "metadata": {
        "id": "Ci37Vs1VjAAk",
        "colab_type": "text"
      },
      "cell_type": "markdown",
      "source": [
        "Nous allons dessiner la matrice des corrélations. Nous nous référerons au code couleur pour décider quelles sont les variables que l'on peut prendre ou non. "
      ]
    },
    {
      "metadata": {
        "id": "G4vMnzFni1fs",
        "colab_type": "code",
        "outputId": "daa94b4f-662d-46d7-e0e6-1877bd1de119",
        "colab": {
          "base_uri": "https://localhost:8080/",
          "height": 542
        }
      },
      "cell_type": "code",
      "source": [
        "corr = df.corr()\n",
        "f, ax = plt.subplots(figsize=(11, 9))\n",
        "cmap = sns.diverging_palette(220, 10, as_cmap=True)\n",
        "sns.heatmap(corr, cmap=cmap, vmax=1, vmin = -1, center=0,\n",
        "            square=False, linewidths=.5, cbar_kws={\"shrink\": .8})\n",
        "plt.show()"
      ],
      "execution_count": 0,
      "outputs": [
        {
          "output_type": "display_data",
          "data": {
            "image/png": "[encoded data removed]",
            "text/plain": [
              "<Figure size 792x648 with 2 Axes>"
            ]
          },
          "metadata": {
            "tags": []
          }
        }
      ]
    },
    {
      "metadata": {
        "id": "5U3kzxM_jJWN",
        "colab_type": "text"
      },
      "cell_type": "markdown",
      "source": [
        "Verdict ? \n",
        "\n",
        "*   Les variables `Households_under_18`, `Density`, `Total_Families` et `Census_2010` sont très corrélées entre elles (cf. carré rouge en bas à droite)\n",
        "*   Nous pouvons donc choisir de garder `Land_Area` et n'importe laquelle des autres variables, pourvu que celle-ci est seule ! \n",
        "\n"
      ]
    },
    {
      "metadata": {
        "id": "dboIPY5Iadg9",
        "colab_type": "text"
      },
      "cell_type": "markdown",
      "source": [
        "## iv. Amélioration du modèle linéaire"
      ]
    },
    {
      "metadata": {
        "id": "6tp6gGvxkh65",
        "colab_type": "text"
      },
      "cell_type": "markdown",
      "source": [
        "Maintenant, on peut choisir nos régresseurs ! "
      ]
    },
    {
      "metadata": {
        "id": "US4iVEIZ4GR_",
        "colab_type": "code",
        "colab": {}
      },
      "cell_type": "code",
      "source": [
        "chosen_regressors = ['Land_Area', 'Total_Families']"
      ],
      "execution_count": 0,
      "outputs": []
    },
    {
      "metadata": {
        "id": "xk4P4zyikmSA",
        "colab_type": "text"
      },
      "cell_type": "markdown",
      "source": [
        "Répétons les étapes 3 et 4 du processus précédent et tirons-en les conclusions."
      ]
    },
    {
      "metadata": {
        "id": "iPhb2-Jfklla",
        "colab_type": "code",
        "outputId": "b0dd3b51-c3d4-4e46-9773-36486992b389",
        "colab": {
          "base_uri": "https://localhost:8080/",
          "height": 51
        }
      },
      "cell_type": "code",
      "source": [
        "X_train, X_test, y_train, y_test = train_test_split(outlier_free_data_frame[chosen_regressors],\n",
        "                                                    outlier_free_data_frame[target],\n",
        "                                                    test_size=0.2, random_state=42)\n",
        "regr.fit(X_train[chosen_regressors], y_train)\n",
        "predictions_ventes = regr.predict(X_test[chosen_regressors])\n",
        "erreur_ech_test = np.sqrt(mean_squared_error(predictions_ventes, y_test))\n",
        "erreur_ech_train = np.sqrt(mean_squared_error(regr.predict(X_train[chosen_regressors]), y_train))\n",
        "\n",
        "print(\"Erreur sur l'échantillon d'entrainement : %s\" % round(erreur_ech_train))\n",
        "print(\"Erreur sur l'échantillon de test : %s\" % round(erreur_ech_test))"
      ],
      "execution_count": 0,
      "outputs": [
        {
          "output_type": "stream",
          "text": [
            "Erreur sur l'échantillon d'entrainement : 68664.0\n",
            "Erreur sur l'échantillon de test : 69061.0\n"
          ],
          "name": "stdout"
        }
      ]
    },
    {
      "metadata": {
        "id": "8MIouZa0lG63",
        "colab_type": "text"
      },
      "cell_type": "markdown",
      "source": [
        "Verdict : le modèle sur-apprend beaucoup moins !"
      ]
    },
    {
      "metadata": {
        "id": "QmP41OAIlZQA",
        "colab_type": "text"
      },
      "cell_type": "markdown",
      "source": [
        "## v. Décision finale"
      ]
    },
    {
      "metadata": {
        "id": "mHlSy0nClf9m",
        "colab_type": "text"
      },
      "cell_type": "markdown",
      "source": [
        "On peut maintenant appliquer notre modèle sur les données non-vues par le modèle lors de son apprentissage - à savoir les villes dans lesquelles notre concurrent est déjà présent."
      ]
    },
    {
      "metadata": {
        "id": "E5m5-O4-lYrR",
        "colab_type": "code",
        "colab": {}
      },
      "cell_type": "code",
      "source": [
        "competitors_data = competitors_data.set_index([competitors_data['City'], competitors_data['County']])\n",
        "already_studied_cities = set(consolidated_data.index.values) & set(competitors_data.index.values)\n",
        "competitors_data = competitors_data[~competitors_data.index.isin(already_studied_cities)]"
      ],
      "execution_count": 0,
      "outputs": []
    },
    {
      "metadata": {
        "id": "b3sOIaU3k9Jq",
        "colab_type": "code",
        "colab": {}
      },
      "cell_type": "code",
      "source": [
        "## Prédictions ! \n",
        "competitors_data['expected_sales'] = regr.predict(competitors_data[chosen_regressors])\n",
        "resultats = competitors_data.sort_values(by = \"expected_sales\", ascending=False)['expected_sales']"
      ],
      "execution_count": 0,
      "outputs": []
    },
    {
      "metadata": {
        "id": "SEC_9xI0l2kN",
        "colab_type": "code",
        "outputId": "8dff7763-13f4-4a20-a5a3-a924d55e6e04",
        "colab": {
          "base_uri": "https://localhost:8080/",
          "height": 68
        }
      },
      "cell_type": "code",
      "source": [
        "## And the winner is... ?\n",
        "resultats.head(1)"
      ],
      "execution_count": 0,
      "outputs": [
        {
          "output_type": "execute_result",
          "data": {
            "text/plain": [
              "City     County\n",
              "Laramie  Albany    320369.943046\n",
              "Name: expected_sales, dtype: float64"
            ]
          },
          "metadata": {
            "tags": []
          },
          "execution_count": 56
        }
      ]
    },
    {
      "metadata": {
        "id": "IzdAcohwl8m4",
        "colab_type": "text"
      },
      "cell_type": "markdown",
      "source": [
        "# B. Construction d'un modèle de classification"
      ]
    },
    {
      "metadata": {
        "id": "zEqQL1TYou6n",
        "colab_type": "text"
      },
      "cell_type": "markdown",
      "source": [
        "Un modèle de classification diffère d'un modèle de régression dans le sens où la variable-cible prend des valeurs **discrètes** ('0', '1', '2'...) et non **continues**. \n"
      ]
    },
    {
      "metadata": {
        "id": "nc67ByyMuqJM",
        "colab_type": "text"
      },
      "cell_type": "markdown",
      "source": [
        "## i. Construction de variables binaires"
      ]
    },
    {
      "metadata": {
        "id": "WeKCJKahl3s-",
        "colab_type": "code",
        "colab": {}
      },
      "cell_type": "code",
      "source": [
        "competitors_data = pd.merge(demographics, competitors_sales_city, left_on='City', right_on = 'Physical_city_name')\n",
        "competitors_data = pd.merge(competitors_data, census_2010, on='City')\n",
        "\n",
        "rename_var = {\n",
        "    'Land Area': 'Land_Area',\n",
        "    'Households with Under 18': 'Households_under_18',\n",
        "    'Population Density' : 'Density',\n",
        "    'Total Families' : 'Total_Families',\n",
        "    'sum_sales_volume': 'City_Sales',\n",
        "    'city_sales': 'City_Sales'\n",
        "}\n",
        "competitors_data = competitors_data.rename(columns = rename_var)\n",
        "competitors_data = competitors_data.set_index([competitors_data['City'], competitors_data['County']])"
      ],
      "execution_count": 0,
      "outputs": []
    },
    {
      "metadata": {
        "id": "6IPb4rDUskp0",
        "colab_type": "code",
        "outputId": "c3d39472-de95-419a-d2fa-b476ae2a7426",
        "colab": {
          "base_uri": "https://localhost:8080/",
          "height": 340
        }
      },
      "cell_type": "code",
      "source": [
        "print(competitors_data['City_Sales'])"
      ],
      "execution_count": 0,
      "outputs": [
        {
          "output_type": "stream",
          "text": [
            "City          County    \n",
            "Laramie       Albany          76000\n",
            "Gillette      Campbell      1130000\n",
            "Saratoga      Carbon          83000\n",
            "Douglas       Converse        96000\n",
            "Dubois        Fremont         55000\n",
            "Lander        Fremont        152197\n",
            "Torrington    Goshen         876991\n",
            "Cheyenne      Laramie       1021000\n",
            "Alpine        Lincoln         70000\n",
            "Kemmerer      Lincoln         69000\n",
            "Casper        Natrona        210000\n",
            "Evansville    Natrona        210000\n",
            "Wheatland     Platte          77000\n",
            "Rock Springs  Sweetwater     990000\n",
            "Jackson       Teton          182000\n",
            "Evanston      Uinta           89000\n",
            "Worland       Washakie       169000\n",
            "Name: City_Sales, dtype: int64\n"
          ],
          "name": "stdout"
        }
      ]
    },
    {
      "metadata": {
        "id": "Z_P4OjpLsxFn",
        "colab_type": "code",
        "outputId": "6a3bcaad-c1f0-40b7-e016-b9d2a3f51945",
        "colab": {
          "base_uri": "https://localhost:8080/",
          "height": 34
        }
      },
      "cell_type": "code",
      "source": [
        "print(\"Il y a %s villes sur %s qui font plus de 100 millions de chiffre d'affaires\" % (\n",
        "len(np.where(competitors_data['City_Sales'] > 100000)[0]), len(competitors_data)))"
      ],
      "execution_count": 0,
      "outputs": [
        {
          "output_type": "stream",
          "text": [
            "Il y a 9 villes sur 17 qui font plus de 100 millions de chiffre d'affaires\n"
          ],
          "name": "stdout"
        }
      ]
    },
    {
      "metadata": {
        "id": "Pljohw6vtzu_",
        "colab_type": "text"
      },
      "cell_type": "markdown",
      "source": [
        "Soit ! Faisons en sorte de labelliser les 9 villes ayant moins de 100M en revenus '1' et les autres '0'."
      ]
    },
    {
      "metadata": {
        "id": "elAyo4EasvOT",
        "colab_type": "code",
        "outputId": "e26549e8-53db-4bf5-ea61-b5fd52390654",
        "colab": {
          "base_uri": "https://localhost:8080/",
          "height": 340
        }
      },
      "cell_type": "code",
      "source": [
        "competitors_data['target'] = np.where(competitors_data['City_Sales'] > 100000, 1, 0)\n",
        "print(competitors_data['target'])"
      ],
      "execution_count": 0,
      "outputs": [
        {
          "output_type": "stream",
          "text": [
            "City          County    \n",
            "Laramie       Albany        0\n",
            "Gillette      Campbell      1\n",
            "Saratoga      Carbon        0\n",
            "Douglas       Converse      0\n",
            "Dubois        Fremont       0\n",
            "Lander        Fremont       1\n",
            "Torrington    Goshen        1\n",
            "Cheyenne      Laramie       1\n",
            "Alpine        Lincoln       0\n",
            "Kemmerer      Lincoln       0\n",
            "Casper        Natrona       1\n",
            "Evansville    Natrona       1\n",
            "Wheatland     Platte        0\n",
            "Rock Springs  Sweetwater    1\n",
            "Jackson       Teton         1\n",
            "Evanston      Uinta         0\n",
            "Worland       Washakie      1\n",
            "Name: target, dtype: int64\n"
          ],
          "name": "stdout"
        }
      ]
    },
    {
      "metadata": {
        "id": "Vx3dHG7-u60D",
        "colab_type": "text"
      },
      "cell_type": "markdown",
      "source": [
        "On veut ensuite intégrer la donnée du *County*, à plusieurs niveaux : suivant le même principe que précédemment, on veut binariser les niveaux. "
      ]
    },
    {
      "metadata": {
        "id": "_5_pY-9Ctpqj",
        "colab_type": "code",
        "colab": {}
      },
      "cell_type": "code",
      "source": [
        "## Les features avec lesquelles on avait travaillé précédemment\n",
        "features = ['Land_Area', 'Households_under_18', 'Density', 'Total_Families',\n",
        "            'Census_2010']"
      ],
      "execution_count": 0,
      "outputs": []
    },
    {
      "metadata": {
        "id": "XAoMpZqlvOsV",
        "colab_type": "code",
        "colab": {}
      },
      "cell_type": "code",
      "source": [
        "competitors_data = pd.concat([competitors_data[features],\n",
        "                              pd.get_dummies(competitors_data['County']),\n",
        "                              competitors_data['target']],\n",
        "                             axis = 1)"
      ],
      "execution_count": 0,
      "outputs": []
    },
    {
      "metadata": {
        "id": "w8vwn3N9vQku",
        "colab_type": "code",
        "outputId": "1ea6fa04-2d73-4af8-eb77-f801deb3ad23",
        "colab": {
          "base_uri": "https://localhost:8080/",
          "height": 255
        }
      },
      "cell_type": "code",
      "source": [
        "competitors_data.head()"
      ],
      "execution_count": 0,
      "outputs": [
        {
          "output_type": "execute_result",
          "data": {
            "text/html": [
              "<div>\n",
              "<style scoped>\n",
              "    .dataframe tbody tr th:only-of-type {\n",
              "        vertical-align: middle;\n",
              "    }\n",
              "\n",
              "    .dataframe tbody tr th {\n",
              "        vertical-align: top;\n",
              "    }\n",
              "\n",
              "    .dataframe thead th {\n",
              "        text-align: right;\n",
              "    }\n",
              "</style>\n",
              "<table border=\"1\" class=\"dataframe\">\n",
              "  <thead>\n",
              "    <tr style=\"text-align: right;\">\n",
              "      <th></th>\n",
              "      <th></th>\n",
              "      <th>Land_Area</th>\n",
              "      <th>Households_under_18</th>\n",
              "      <th>Density</th>\n",
              "      <th>Total_Families</th>\n",
              "      <th>Census_2010</th>\n",
              "      <th>Albany</th>\n",
              "      <th>Campbell</th>\n",
              "      <th>Carbon</th>\n",
              "      <th>Converse</th>\n",
              "      <th>Fremont</th>\n",
              "      <th>Goshen</th>\n",
              "      <th>Laramie</th>\n",
              "      <th>Lincoln</th>\n",
              "      <th>Natrona</th>\n",
              "      <th>Platte</th>\n",
              "      <th>Sweetwater</th>\n",
              "      <th>Teton</th>\n",
              "      <th>Uinta</th>\n",
              "      <th>Washakie</th>\n",
              "      <th>target</th>\n",
              "    </tr>\n",
              "    <tr>\n",
              "      <th>City</th>\n",
              "      <th>County</th>\n",
              "      <th></th>\n",
              "      <th></th>\n",
              "      <th></th>\n",
              "      <th></th>\n",
              "      <th></th>\n",
              "      <th></th>\n",
              "      <th></th>\n",
              "      <th></th>\n",
              "      <th></th>\n",
              "      <th></th>\n",
              "      <th></th>\n",
              "      <th></th>\n",
              "      <th></th>\n",
              "      <th></th>\n",
              "      <th></th>\n",
              "      <th></th>\n",
              "      <th></th>\n",
              "      <th></th>\n",
              "      <th></th>\n",
              "      <th></th>\n",
              "    </tr>\n",
              "  </thead>\n",
              "  <tbody>\n",
              "    <tr>\n",
              "      <th>Laramie</th>\n",
              "      <th>Albany</th>\n",
              "      <td>2513.745235</td>\n",
              "      <td>2075</td>\n",
              "      <td>5.19</td>\n",
              "      <td>4668.93</td>\n",
              "      <td>30816</td>\n",
              "      <td>1</td>\n",
              "      <td>0</td>\n",
              "      <td>0</td>\n",
              "      <td>0</td>\n",
              "      <td>0</td>\n",
              "      <td>0</td>\n",
              "      <td>0</td>\n",
              "      <td>0</td>\n",
              "      <td>0</td>\n",
              "      <td>0</td>\n",
              "      <td>0</td>\n",
              "      <td>0</td>\n",
              "      <td>0</td>\n",
              "      <td>0</td>\n",
              "      <td>0</td>\n",
              "    </tr>\n",
              "    <tr>\n",
              "      <th>Gillette</th>\n",
              "      <th>Campbell</th>\n",
              "      <td>2748.852900</td>\n",
              "      <td>4052</td>\n",
              "      <td>5.80</td>\n",
              "      <td>7189.43</td>\n",
              "      <td>29087</td>\n",
              "      <td>0</td>\n",
              "      <td>1</td>\n",
              "      <td>0</td>\n",
              "      <td>0</td>\n",
              "      <td>0</td>\n",
              "      <td>0</td>\n",
              "      <td>0</td>\n",
              "      <td>0</td>\n",
              "      <td>0</td>\n",
              "      <td>0</td>\n",
              "      <td>0</td>\n",
              "      <td>0</td>\n",
              "      <td>0</td>\n",
              "      <td>0</td>\n",
              "      <td>1</td>\n",
              "    </tr>\n",
              "    <tr>\n",
              "      <th>Saratoga</th>\n",
              "      <th>Carbon</th>\n",
              "      <td>976.042427</td>\n",
              "      <td>240</td>\n",
              "      <td>0.24</td>\n",
              "      <td>499.23</td>\n",
              "      <td>1690</td>\n",
              "      <td>0</td>\n",
              "      <td>0</td>\n",
              "      <td>1</td>\n",
              "      <td>0</td>\n",
              "      <td>0</td>\n",
              "      <td>0</td>\n",
              "      <td>0</td>\n",
              "      <td>0</td>\n",
              "      <td>0</td>\n",
              "      <td>0</td>\n",
              "      <td>0</td>\n",
              "      <td>0</td>\n",
              "      <td>0</td>\n",
              "      <td>0</td>\n",
              "      <td>0</td>\n",
              "    </tr>\n",
              "    <tr>\n",
              "      <th>Douglas</th>\n",
              "      <th>Converse</th>\n",
              "      <td>1829.465100</td>\n",
              "      <td>832</td>\n",
              "      <td>1.46</td>\n",
              "      <td>1744.08</td>\n",
              "      <td>6120</td>\n",
              "      <td>0</td>\n",
              "      <td>0</td>\n",
              "      <td>0</td>\n",
              "      <td>1</td>\n",
              "      <td>0</td>\n",
              "      <td>0</td>\n",
              "      <td>0</td>\n",
              "      <td>0</td>\n",
              "      <td>0</td>\n",
              "      <td>0</td>\n",
              "      <td>0</td>\n",
              "      <td>0</td>\n",
              "      <td>0</td>\n",
              "      <td>0</td>\n",
              "      <td>0</td>\n",
              "    </tr>\n",
              "    <tr>\n",
              "      <th>Dubois</th>\n",
              "      <th>Fremont</th>\n",
              "      <td>437.073505</td>\n",
              "      <td>244</td>\n",
              "      <td>0.21</td>\n",
              "      <td>506.29</td>\n",
              "      <td>971</td>\n",
              "      <td>0</td>\n",
              "      <td>0</td>\n",
              "      <td>0</td>\n",
              "      <td>0</td>\n",
              "      <td>1</td>\n",
              "      <td>0</td>\n",
              "      <td>0</td>\n",
              "      <td>0</td>\n",
              "      <td>0</td>\n",
              "      <td>0</td>\n",
              "      <td>0</td>\n",
              "      <td>0</td>\n",
              "      <td>0</td>\n",
              "      <td>0</td>\n",
              "      <td>0</td>\n",
              "    </tr>\n",
              "  </tbody>\n",
              "</table>\n",
              "</div>"
            ],
            "text/plain": [
              "                     Land_Area  Households_under_18  Density  Total_Families  \\\n",
              "City     County                                                                \n",
              "Laramie  Albany    2513.745235                 2075     5.19         4668.93   \n",
              "Gillette Campbell  2748.852900                 4052     5.80         7189.43   \n",
              "Saratoga Carbon     976.042427                  240     0.24          499.23   \n",
              "Douglas  Converse  1829.465100                  832     1.46         1744.08   \n",
              "Dubois   Fremont    437.073505                  244     0.21          506.29   \n",
              "\n",
              "                   Census_2010  Albany  Campbell  Carbon  Converse  Fremont  \\\n",
              "City     County                                                               \n",
              "Laramie  Albany          30816       1         0       0         0        0   \n",
              "Gillette Campbell        29087       0         1       0         0        0   \n",
              "Saratoga Carbon           1690       0         0       1         0        0   \n",
              "Douglas  Converse         6120       0         0       0         1        0   \n",
              "Dubois   Fremont           971       0         0       0         0        1   \n",
              "\n",
              "                   Goshen  Laramie  Lincoln  Natrona  Platte  Sweetwater  \\\n",
              "City     County                                                            \n",
              "Laramie  Albany         0        0        0        0       0           0   \n",
              "Gillette Campbell       0        0        0        0       0           0   \n",
              "Saratoga Carbon         0        0        0        0       0           0   \n",
              "Douglas  Converse       0        0        0        0       0           0   \n",
              "Dubois   Fremont        0        0        0        0       0           0   \n",
              "\n",
              "                   Teton  Uinta  Washakie  target  \n",
              "City     County                                    \n",
              "Laramie  Albany        0      0         0       0  \n",
              "Gillette Campbell      0      0         0       1  \n",
              "Saratoga Carbon        0      0         0       0  \n",
              "Douglas  Converse      0      0         0       0  \n",
              "Dubois   Fremont       0      0         0       0  "
            ]
          },
          "metadata": {
            "tags": []
          },
          "execution_count": 74
        }
      ]
    },
    {
      "metadata": {
        "id": "JPWBxnJHxlCb",
        "colab_type": "text"
      },
      "cell_type": "markdown",
      "source": [
        "## ii. Calibrage d'un modèle d'arbre de classification"
      ]
    },
    {
      "metadata": {
        "id": "rm3p8Gu5vZzY",
        "colab_type": "text"
      },
      "cell_type": "markdown",
      "source": [
        "Maintenant, l'on peut ré-appliquer les étapes 3 et 4 de la régression. "
      ]
    },
    {
      "metadata": {
        "id": "KPm9em23vSm9",
        "colab_type": "code",
        "colab": {}
      },
      "cell_type": "code",
      "source": [
        "X_train, X_test, y_train, y_test = train_test_split(competitors_data.iloc[:,0:-1],\n",
        "                                                    competitors_data['target'],\n",
        "                                                    test_size=0.2, random_state=40)"
      ],
      "execution_count": 0,
      "outputs": []
    },
    {
      "metadata": {
        "id": "4HhkhMJnvlnH",
        "colab_type": "text"
      },
      "cell_type": "markdown",
      "source": [
        "Construisons un modèle d'arbre..."
      ]
    },
    {
      "metadata": {
        "id": "nh4IdT_NvgJp",
        "colab_type": "code",
        "colab": {}
      },
      "cell_type": "code",
      "source": [
        "clf_tree = DecisionTreeClassifier(max_depth=1, random_state=42) ## Refaire tourner avec max_depth = 5\n",
        "clf_tree = clf_tree.fit(X_train, y_train)\n",
        "y_pred_tree_train = clf_tree.predict(X_train)\n",
        "y_pred_tree_test = clf_tree.predict(X_test)"
      ],
      "execution_count": 0,
      "outputs": []
    },
    {
      "metadata": {
        "id": "9Sjeq7C0vkvu",
        "colab_type": "code",
        "outputId": "d175d065-0c50-41dc-d1ef-b8fef755c719",
        "colab": {
          "base_uri": "https://localhost:8080/",
          "height": 34
        }
      },
      "cell_type": "code",
      "source": [
        "## Prédictions sur l'échantillon d'apprentissage\n",
        "print(y_pred_tree_train)"
      ],
      "execution_count": 0,
      "outputs": [
        {
          "output_type": "stream",
          "text": [
            "[1 1 1 1 1 1 0 1 0 1 1 1 1]\n"
          ],
          "name": "stdout"
        }
      ]
    },
    {
      "metadata": {
        "id": "mx-FO3T7vpw3",
        "colab_type": "code",
        "outputId": "c64a9cd7-5190-4865-eb97-ed0ac460630b",
        "colab": {
          "base_uri": "https://localhost:8080/",
          "height": 34
        }
      },
      "cell_type": "code",
      "source": [
        "## Prédictions sur l'échantillon de test\n",
        "print(y_pred_tree_test)"
      ],
      "execution_count": 0,
      "outputs": [
        {
          "output_type": "stream",
          "text": [
            "[1 1 1 0]\n"
          ],
          "name": "stdout"
        }
      ]
    },
    {
      "metadata": {
        "id": "3ADSC8ZKvtDS",
        "colab_type": "code",
        "colab": {}
      },
      "cell_type": "code",
      "source": [
        "## Ecriture du graphe de l'arbre\n",
        "export_graphviz(clf_tree, out_file='tree.dot', feature_names=competitors_data.iloc[:,0:-1].columns)"
      ],
      "execution_count": 0,
      "outputs": []
    },
    {
      "metadata": {
        "id": "9kgdE83iwFGm",
        "colab_type": "code",
        "outputId": "183d882a-f1f8-42aa-a2b1-cc8e2379dc0c",
        "colab": {
          "base_uri": "https://localhost:8080/",
          "height": 34
        }
      },
      "cell_type": "code",
      "source": [
        "## Conversion du fichier en PDF\n",
        "from graphviz import Source\n",
        "s = Source.from_file('tree.dot')\n",
        "s.view()"
      ],
      "execution_count": 0,
      "outputs": [
        {
          "output_type": "execute_result",
          "data": {
            "text/plain": [
              "'tree.dot.pdf'"
            ]
          },
          "metadata": {
            "tags": []
          },
          "execution_count": 93
        }
      ]
    },
    {
      "metadata": {
        "id": "PrwEX5FCxrFI",
        "colab_type": "text"
      },
      "cell_type": "markdown",
      "source": [
        "## iii. Evaluation du modèle de classification"
      ]
    },
    {
      "metadata": {
        "id": "pX3ugjYEv0nR",
        "colab_type": "code",
        "outputId": "70f04ea1-031e-41be-d7f0-973874369606",
        "colab": {
          "base_uri": "https://localhost:8080/",
          "height": 85
        }
      },
      "cell_type": "code",
      "source": [
        "from sklearn.metrics import confusion_matrix\n",
        "\n",
        "cm_train = confusion_matrix(np.array(y_train), y_pred_tree_train)\n",
        "print(cm_train)\n",
        "\n",
        "cm_test = confusion_matrix(np.array(y_test), y_pred_tree_test)\n",
        "print(cm_test)"
      ],
      "execution_count": 0,
      "outputs": [
        {
          "output_type": "stream",
          "text": [
            "[[2 3]\n",
            " [0 8]]\n",
            "[[1 2]\n",
            " [0 1]]\n"
          ],
          "name": "stdout"
        }
      ]
    },
    {
      "metadata": {
        "id": "8nkm0sT-wDe8",
        "colab_type": "code",
        "colab": {}
      },
      "cell_type": "code",
      "source": [
        "from sklearn.utils.multiclass import unique_labels\n",
        "def plot_confusion_matrix(y_true, y_pred, classes,\n",
        "                          normalize=False,\n",
        "                          title=None,\n",
        "                          cmap=plt.cm.Blues):\n",
        "    \"\"\"\n",
        "    This function prints and plots the confusion matrix.\n",
        "    Normalization can be applied by setting `normalize=True`.\n",
        "    \"\"\"\n",
        "    if not title:\n",
        "        if normalize:\n",
        "            title = 'Normalized confusion matrix'\n",
        "        else:\n",
        "            title = 'Confusion matrix, without normalization'\n",
        "\n",
        "    # Compute confusion matrix\n",
        "    cm = confusion_matrix(y_true, y_pred)\n",
        "    # Only use the labels that appear in the data\n",
        "    classes = classes[unique_labels(y_true, y_pred)]\n",
        "    if normalize:\n",
        "        cm = cm.astype('float') / cm.sum(axis=1)[:, np.newaxis]\n",
        "        print(\"Normalized confusion matrix\")\n",
        "    else:\n",
        "        print('Confusion matrix, without normalization')\n",
        "\n",
        "    print(cm)\n",
        "\n",
        "    fig, ax = plt.subplots()\n",
        "    im = ax.imshow(cm, interpolation='nearest', cmap=cmap)\n",
        "    ax.figure.colorbar(im, ax=ax)\n",
        "    # We want to show all ticks...\n",
        "    ax.set(xticks=np.arange(cm.shape[1]),\n",
        "           yticks=np.arange(cm.shape[0]),\n",
        "           # ... and label them with the respective list entries\n",
        "           xticklabels=classes, yticklabels=classes,\n",
        "           title=title,\n",
        "           ylabel='True label',\n",
        "           xlabel='Predicted label')\n",
        "\n",
        "    # Rotate the tick labels and set their alignment.\n",
        "    plt.setp(ax.get_xticklabels(), rotation=45, ha=\"right\",\n",
        "             rotation_mode=\"anchor\")\n",
        "\n",
        "    # Loop over data dimensions and create text annotations.\n",
        "    fmt = '.2f' if normalize else 'd'\n",
        "    thresh = cm.max() / 2.\n",
        "    for i in range(cm.shape[0]):\n",
        "        for j in range(cm.shape[1]):\n",
        "            ax.text(j, i, format(cm[i, j], fmt),\n",
        "                    ha=\"center\", va=\"center\",\n",
        "                    color=\"white\" if cm[i, j] > thresh else \"black\")\n",
        "    fig.tight_layout()\n",
        "    return ax"
      ],
      "execution_count": 0,
      "outputs": []
    },
    {
      "metadata": {
        "id": "e3RN3_wezP5s",
        "colab_type": "code",
        "outputId": "219c8d48-5e8d-4a6b-c020-876c442bc341",
        "colab": {
          "base_uri": "https://localhost:8080/",
          "height": 289
        }
      },
      "cell_type": "code",
      "source": [
        "print(y_train)\n",
        "print(y_pred_tree_train)"
      ],
      "execution_count": 0,
      "outputs": [
        {
          "output_type": "stream",
          "text": [
            "City        County  \n",
            "Worland     Washakie    1\n",
            "Evanston    Uinta       0\n",
            "Douglas     Converse    0\n",
            "Casper      Natrona     1\n",
            "Jackson     Teton       1\n",
            "Gillette    Campbell    1\n",
            "Saratoga    Carbon      0\n",
            "Wheatland   Platte      0\n",
            "Alpine      Lincoln     0\n",
            "Lander      Fremont     1\n",
            "Cheyenne    Laramie     1\n",
            "Evansville  Natrona     1\n",
            "Torrington  Goshen      1\n",
            "Name: target, dtype: int64\n",
            "[1 1 1 1 1 1 0 1 0 1 1 1 1]\n"
          ],
          "name": "stdout"
        }
      ]
    },
    {
      "metadata": {
        "id": "uUGJ99f9yjrT",
        "colab_type": "code",
        "outputId": "38b07119-1e3d-431b-82ca-81e1c23ca507",
        "colab": {
          "base_uri": "https://localhost:8080/",
          "height": 365
        }
      },
      "cell_type": "code",
      "source": [
        "plot_confusion_matrix(y_train, y_pred_tree_train, \n",
        "                      classes=np.array(['inferieur_100m', 'superieur_100m']),\n",
        "                      title='Matrice de confusion - échantillon entraînement')"
      ],
      "execution_count": 0,
      "outputs": [
        {
          "output_type": "stream",
          "text": [
            "Confusion matrix, without normalization\n",
            "[[2 3]\n",
            " [0 8]]\n"
          ],
          "name": "stdout"
        },
        {
          "output_type": "execute_result",
          "data": {
            "text/plain": [
              "<matplotlib.axes._subplots.AxesSubplot at 0x7ff5aedd70f0>"
            ]
          },
          "metadata": {
            "tags": []
          },
          "execution_count": 121
        },
        {
          "output_type": "display_data",
          "data": {
            "image/png": "[encoded data removed]",
            "text/plain": [
              "<Figure size 432x288 with 2 Axes>"
            ]
          },
          "metadata": {
            "tags": []
          }
        }
      ]
    },
    {
      "metadata": {
        "id": "d-hibao-zZgu",
        "colab_type": "code",
        "outputId": "2b80cdd4-a054-4184-fa4f-0e581dc43b59",
        "colab": {
          "base_uri": "https://localhost:8080/",
          "height": 68
        }
      },
      "cell_type": "code",
      "source": [
        "## Calculer les métriques pour l'échantillon d'entrainement\n",
        "accuracy = (8+2)/(8+2+3)\n",
        "precision = 8 / (8 + 3)\n",
        "recall = 8 / (8 + 0)\n",
        "\n",
        "print('Accuracy = %s %%' % round(accuracy * 100, 2))\n",
        "print('Precision = %s %%' % round(precision * 100, 2))\n",
        "print('Recall = %s %%' % round(recall * 100, 2))"
      ],
      "execution_count": 0,
      "outputs": [
        {
          "output_type": "stream",
          "text": [
            "Accuracy = 76.92 %\n",
            "Precision = 72.73 %\n",
            "Recall = 100.0 %\n"
          ],
          "name": "stdout"
        }
      ]
    },
    {
      "metadata": {
        "id": "GikCDdgpzsho",
        "colab_type": "code",
        "colab": {}
      },
      "cell_type": "code",
      "source": [
        "## EXERCICE : pour l'échantillon de test ? "
      ],
      "execution_count": 0,
      "outputs": []
    },
    {
      "metadata": {
        "id": "OdraOB2HztNL",
        "colab_type": "code",
        "outputId": "7259c367-e753-4965-ffa2-af89b87dde39",
        "colab": {
          "base_uri": "https://localhost:8080/",
          "height": 365
        }
      },
      "cell_type": "code",
      "source": [
        "plot_confusion_matrix(y_test, y_pred_tree_test, \n",
        "                      classes=np.array(['inferieur_100m', 'superieur_100m']),\n",
        "                      title='Matrice de confusion - échantillon test')"
      ],
      "execution_count": 0,
      "outputs": [
        {
          "output_type": "stream",
          "text": [
            "Confusion matrix, without normalization\n",
            "[[1 2]\n",
            " [0 1]]\n"
          ],
          "name": "stdout"
        },
        {
          "output_type": "execute_result",
          "data": {
            "text/plain": [
              "<matplotlib.axes._subplots.AxesSubplot at 0x7ff5aea670f0>"
            ]
          },
          "metadata": {
            "tags": []
          },
          "execution_count": 131
        },
        {
          "output_type": "display_data",
          "data": {
            "image/png": "[encoded data removed]",
            "text/plain": [
              "<Figure size 432x288 with 2 Axes>"
            ]
          },
          "metadata": {
            "tags": []
          }
        }
      ]
    },
    {
      "metadata": {
        "id": "yxkqC0-O23hz",
        "colab_type": "code",
        "outputId": "4224e49d-22b8-40a6-cca9-31ba300c19c7",
        "colab": {
          "base_uri": "https://localhost:8080/",
          "height": 68
        }
      },
      "cell_type": "code",
      "source": [
        "accuracy = (1+1)/(1+1+2)\n",
        "precision = 1 / (1 + 2)\n",
        "recall = 1 / (1 + 0)\n",
        "\n",
        "print('Accuracy = %s %%' % round(accuracy * 100, 2))\n",
        "print('Precision = %s %%' % round(precision * 100, 2))\n",
        "print('Recall = %s %%' % round(recall * 100, 2))"
      ],
      "execution_count": 0,
      "outputs": [
        {
          "output_type": "stream",
          "text": [
            "Accuracy = 50.0 %\n",
            "Precision = 33.33 %\n",
            "Recall = 100.0 %\n"
          ],
          "name": "stdout"
        }
      ]
    },
    {
      "metadata": {
        "id": "rhwPfR1s3FiI",
        "colab_type": "code",
        "colab": {}
      },
      "cell_type": "code",
      "source": [
        ""
      ],
      "execution_count": 0,
      "outputs": []
    }
  ]
}